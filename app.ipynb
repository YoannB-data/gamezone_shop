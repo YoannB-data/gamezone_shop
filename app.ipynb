{
 "cells": [
  {
   "cell_type": "code",
   "id": "initial_id",
   "metadata": {
    "collapsed": true,
    "ExecuteTime": {
     "end_time": "2025-08-29T14:21:11.656886Z",
     "start_time": "2025-08-29T14:21:11.652130Z"
    }
   },
   "source": [
    "### Suite à un problème avec le logiciel PyCharm, les Markdown seront gérés en Code commentés\n",
    "# https://youtrack.jetbrains.com/issue/PY-26560/Jupyter-notebook-markdown-disappears"
   ],
   "outputs": [],
   "execution_count": 128
  },
  {
   "metadata": {
    "ExecuteTime": {
     "end_time": "2025-08-29T14:21:11.680417Z",
     "start_time": "2025-08-29T14:21:11.676718Z"
    }
   },
   "cell_type": "code",
   "source": [
    "# Sommaire\n",
    "# 1. Importation des librairies et du fichiers\n",
    "# 2. Découverte du dataframe principal df\n",
    "# 3. Découverte du dataframe df_region\n",
    "# 4. Data Cleaning\n",
    "# 5. EDA"
   ],
   "id": "7943e1221cefa954",
   "outputs": [],
   "execution_count": 129
  },
  {
   "metadata": {
    "ExecuteTime": {
     "end_time": "2025-08-29T14:21:11.737238Z",
     "start_time": "2025-08-29T14:21:11.733465Z"
    }
   },
   "cell_type": "code",
   "source": [
    "# ----------------------------------------------------\n",
    "#\n",
    "# 1. Importation des librairies et du fichiers\n",
    "#\n",
    "# ----------------------------------------------------"
   ],
   "id": "921d3fc7570900f8",
   "outputs": [],
   "execution_count": 130
  },
  {
   "metadata": {
    "ExecuteTime": {
     "end_time": "2025-08-29T14:21:11.797492Z",
     "start_time": "2025-08-29T14:21:11.792919Z"
    }
   },
   "cell_type": "code",
   "source": [
    "# Importation des packages\n",
    "\n",
    "import pandas as pd\n",
    "import numpy as np\n",
    "from datetime import datetime, timedelta\n",
    "import matplotlib.pyplot as plt\n",
    "import seaborn as sns\n",
    "import duckdb"
   ],
   "id": "abc122fbb105e377",
   "outputs": [],
   "execution_count": 131
  },
  {
   "metadata": {
    "ExecuteTime": {
     "end_time": "2025-08-29T14:21:12.170239Z",
     "start_time": "2025-08-29T14:21:11.887052Z"
    }
   },
   "cell_type": "code",
   "source": [
    "# Importation du fichier\n",
    "\n",
    "df = pd.read_csv(\n",
    "    \"https://raw.githubusercontent.com/YoannB-data/gamezone_shop/master/data/gamezone-orders-data.csv\"\n",
    ")\n",
    "df_region = pd.read_csv(\n",
    "    \"https://raw.githubusercontent.com/YoannB-data/gamezone_shop/master/data/gamezone-region.csv\"\n",
    ")\n",
    "\n",
    "display(df)\n",
    "display(df_region)"
   ],
   "id": "a3484adc4f54e2ec",
   "outputs": [
    {
     "data": {
      "text/plain": [
       "        USER_ID           ORDER_ID PURCHASE_TS  SHIP_TS  \\\n",
       "0      2c06175e   0001328c3c220830       44189    44178   \n",
       "1      ee8e5bc2  0002af7a5c6100772       44105    44095   \n",
       "2      9eb4efe0   0002b8350e167074       43942    43877   \n",
       "3      cac7cbaf   0006d06b98385729       43928    43925   \n",
       "4      6b0230bc   00097279a2f46150       44159    44045   \n",
       "...         ...                ...         ...      ...   \n",
       "21859  e432cf6f   fff0b6a1e9996384       43796    43798   \n",
       "21860  f4f11c04  fff4592dc6d103535       43822    43825   \n",
       "21861  f4f11c04  fff4592dc6d103537       43822    43825   \n",
       "21862  203ce4dd   fff829b061e16171       44227    44229   \n",
       "21863  203ce4dd   fff829b061e16172       44227    44229   \n",
       "\n",
       "                    PRODUCT_NAME PRODUCT_ID  USD_PRICE PURCHASE_PLATFORM  \\\n",
       "0                Nintendo Switch       e682     168.00           website   \n",
       "1                Nintendo Switch       e682     160.61           website   \n",
       "2                Nintendo Switch       8d0d     151.20           website   \n",
       "3      Sony PlayStation 5 Bundle       54ed    1132.82           website   \n",
       "4                Nintendo Switch       8d0d      33.89           website   \n",
       "...                          ...        ...        ...               ...   \n",
       "21859  Sony PlayStation 5 Bundle       54ed    1527.06           website   \n",
       "21860     27in 4K gaming monitor       891b     467.88           website   \n",
       "21861     27in 4K gaming monitor       891b     467.88           website   \n",
       "21862          Dell Gaming Mouse       8d4f      67.07        mobile app   \n",
       "21863          Dell Gaming Mouse       8d4f      67.07        mobile app   \n",
       "\n",
       "      MARKETING_CHANNEL ACCOUNT_CREATION_METHOD COUNTRY_CODE;  \n",
       "0             affiliate                 unknown           US;  \n",
       "1                direct                 desktop           DE;  \n",
       "2                direct                 desktop           US;  \n",
       "3                direct                 desktop           AU;  \n",
       "4                direct                 desktop           TR;  \n",
       "...                 ...                     ...           ...  \n",
       "21859            direct                 desktop           US;  \n",
       "21860            direct                 desktop           US;  \n",
       "21861            direct                 desktop           US;  \n",
       "21862            direct                 desktop           GB;  \n",
       "21863            direct                 desktop           GB;  \n",
       "\n",
       "[21864 rows x 11 columns]"
      ],
      "text/html": [
       "<div>\n",
       "<style scoped>\n",
       "    .dataframe tbody tr th:only-of-type {\n",
       "        vertical-align: middle;\n",
       "    }\n",
       "\n",
       "    .dataframe tbody tr th {\n",
       "        vertical-align: top;\n",
       "    }\n",
       "\n",
       "    .dataframe thead th {\n",
       "        text-align: right;\n",
       "    }\n",
       "</style>\n",
       "<table border=\"1\" class=\"dataframe\">\n",
       "  <thead>\n",
       "    <tr style=\"text-align: right;\">\n",
       "      <th></th>\n",
       "      <th>USER_ID</th>\n",
       "      <th>ORDER_ID</th>\n",
       "      <th>PURCHASE_TS</th>\n",
       "      <th>SHIP_TS</th>\n",
       "      <th>PRODUCT_NAME</th>\n",
       "      <th>PRODUCT_ID</th>\n",
       "      <th>USD_PRICE</th>\n",
       "      <th>PURCHASE_PLATFORM</th>\n",
       "      <th>MARKETING_CHANNEL</th>\n",
       "      <th>ACCOUNT_CREATION_METHOD</th>\n",
       "      <th>COUNTRY_CODE;</th>\n",
       "    </tr>\n",
       "  </thead>\n",
       "  <tbody>\n",
       "    <tr>\n",
       "      <th>0</th>\n",
       "      <td>2c06175e</td>\n",
       "      <td>0001328c3c220830</td>\n",
       "      <td>44189</td>\n",
       "      <td>44178</td>\n",
       "      <td>Nintendo Switch</td>\n",
       "      <td>e682</td>\n",
       "      <td>168.00</td>\n",
       "      <td>website</td>\n",
       "      <td>affiliate</td>\n",
       "      <td>unknown</td>\n",
       "      <td>US;</td>\n",
       "    </tr>\n",
       "    <tr>\n",
       "      <th>1</th>\n",
       "      <td>ee8e5bc2</td>\n",
       "      <td>0002af7a5c6100772</td>\n",
       "      <td>44105</td>\n",
       "      <td>44095</td>\n",
       "      <td>Nintendo Switch</td>\n",
       "      <td>e682</td>\n",
       "      <td>160.61</td>\n",
       "      <td>website</td>\n",
       "      <td>direct</td>\n",
       "      <td>desktop</td>\n",
       "      <td>DE;</td>\n",
       "    </tr>\n",
       "    <tr>\n",
       "      <th>2</th>\n",
       "      <td>9eb4efe0</td>\n",
       "      <td>0002b8350e167074</td>\n",
       "      <td>43942</td>\n",
       "      <td>43877</td>\n",
       "      <td>Nintendo Switch</td>\n",
       "      <td>8d0d</td>\n",
       "      <td>151.20</td>\n",
       "      <td>website</td>\n",
       "      <td>direct</td>\n",
       "      <td>desktop</td>\n",
       "      <td>US;</td>\n",
       "    </tr>\n",
       "    <tr>\n",
       "      <th>3</th>\n",
       "      <td>cac7cbaf</td>\n",
       "      <td>0006d06b98385729</td>\n",
       "      <td>43928</td>\n",
       "      <td>43925</td>\n",
       "      <td>Sony PlayStation 5 Bundle</td>\n",
       "      <td>54ed</td>\n",
       "      <td>1132.82</td>\n",
       "      <td>website</td>\n",
       "      <td>direct</td>\n",
       "      <td>desktop</td>\n",
       "      <td>AU;</td>\n",
       "    </tr>\n",
       "    <tr>\n",
       "      <th>4</th>\n",
       "      <td>6b0230bc</td>\n",
       "      <td>00097279a2f46150</td>\n",
       "      <td>44159</td>\n",
       "      <td>44045</td>\n",
       "      <td>Nintendo Switch</td>\n",
       "      <td>8d0d</td>\n",
       "      <td>33.89</td>\n",
       "      <td>website</td>\n",
       "      <td>direct</td>\n",
       "      <td>desktop</td>\n",
       "      <td>TR;</td>\n",
       "    </tr>\n",
       "    <tr>\n",
       "      <th>...</th>\n",
       "      <td>...</td>\n",
       "      <td>...</td>\n",
       "      <td>...</td>\n",
       "      <td>...</td>\n",
       "      <td>...</td>\n",
       "      <td>...</td>\n",
       "      <td>...</td>\n",
       "      <td>...</td>\n",
       "      <td>...</td>\n",
       "      <td>...</td>\n",
       "      <td>...</td>\n",
       "    </tr>\n",
       "    <tr>\n",
       "      <th>21859</th>\n",
       "      <td>e432cf6f</td>\n",
       "      <td>fff0b6a1e9996384</td>\n",
       "      <td>43796</td>\n",
       "      <td>43798</td>\n",
       "      <td>Sony PlayStation 5 Bundle</td>\n",
       "      <td>54ed</td>\n",
       "      <td>1527.06</td>\n",
       "      <td>website</td>\n",
       "      <td>direct</td>\n",
       "      <td>desktop</td>\n",
       "      <td>US;</td>\n",
       "    </tr>\n",
       "    <tr>\n",
       "      <th>21860</th>\n",
       "      <td>f4f11c04</td>\n",
       "      <td>fff4592dc6d103535</td>\n",
       "      <td>43822</td>\n",
       "      <td>43825</td>\n",
       "      <td>27in 4K gaming monitor</td>\n",
       "      <td>891b</td>\n",
       "      <td>467.88</td>\n",
       "      <td>website</td>\n",
       "      <td>direct</td>\n",
       "      <td>desktop</td>\n",
       "      <td>US;</td>\n",
       "    </tr>\n",
       "    <tr>\n",
       "      <th>21861</th>\n",
       "      <td>f4f11c04</td>\n",
       "      <td>fff4592dc6d103537</td>\n",
       "      <td>43822</td>\n",
       "      <td>43825</td>\n",
       "      <td>27in 4K gaming monitor</td>\n",
       "      <td>891b</td>\n",
       "      <td>467.88</td>\n",
       "      <td>website</td>\n",
       "      <td>direct</td>\n",
       "      <td>desktop</td>\n",
       "      <td>US;</td>\n",
       "    </tr>\n",
       "    <tr>\n",
       "      <th>21862</th>\n",
       "      <td>203ce4dd</td>\n",
       "      <td>fff829b061e16171</td>\n",
       "      <td>44227</td>\n",
       "      <td>44229</td>\n",
       "      <td>Dell Gaming Mouse</td>\n",
       "      <td>8d4f</td>\n",
       "      <td>67.07</td>\n",
       "      <td>mobile app</td>\n",
       "      <td>direct</td>\n",
       "      <td>desktop</td>\n",
       "      <td>GB;</td>\n",
       "    </tr>\n",
       "    <tr>\n",
       "      <th>21863</th>\n",
       "      <td>203ce4dd</td>\n",
       "      <td>fff829b061e16172</td>\n",
       "      <td>44227</td>\n",
       "      <td>44229</td>\n",
       "      <td>Dell Gaming Mouse</td>\n",
       "      <td>8d4f</td>\n",
       "      <td>67.07</td>\n",
       "      <td>mobile app</td>\n",
       "      <td>direct</td>\n",
       "      <td>desktop</td>\n",
       "      <td>GB;</td>\n",
       "    </tr>\n",
       "  </tbody>\n",
       "</table>\n",
       "<p>21864 rows × 11 columns</p>\n",
       "</div>"
      ]
     },
     "metadata": {},
     "output_type": "display_data"
    },
    {
     "data": {
      "text/plain": [
       "    COUNTRY_CODE REGION\n",
       "0             AD   EMEA\n",
       "1             AE   EMEA\n",
       "2             AG    NaN\n",
       "3             AI    NaN\n",
       "4             AL   EMEA\n",
       "..           ...    ...\n",
       "187           VU   APAC\n",
       "188           YE   EMEA\n",
       "189           ZA   EMEA\n",
       "190           ZM   EMEA\n",
       "191           ZW   EMEA\n",
       "\n",
       "[192 rows x 2 columns]"
      ],
      "text/html": [
       "<div>\n",
       "<style scoped>\n",
       "    .dataframe tbody tr th:only-of-type {\n",
       "        vertical-align: middle;\n",
       "    }\n",
       "\n",
       "    .dataframe tbody tr th {\n",
       "        vertical-align: top;\n",
       "    }\n",
       "\n",
       "    .dataframe thead th {\n",
       "        text-align: right;\n",
       "    }\n",
       "</style>\n",
       "<table border=\"1\" class=\"dataframe\">\n",
       "  <thead>\n",
       "    <tr style=\"text-align: right;\">\n",
       "      <th></th>\n",
       "      <th>COUNTRY_CODE</th>\n",
       "      <th>REGION</th>\n",
       "    </tr>\n",
       "  </thead>\n",
       "  <tbody>\n",
       "    <tr>\n",
       "      <th>0</th>\n",
       "      <td>AD</td>\n",
       "      <td>EMEA</td>\n",
       "    </tr>\n",
       "    <tr>\n",
       "      <th>1</th>\n",
       "      <td>AE</td>\n",
       "      <td>EMEA</td>\n",
       "    </tr>\n",
       "    <tr>\n",
       "      <th>2</th>\n",
       "      <td>AG</td>\n",
       "      <td>NaN</td>\n",
       "    </tr>\n",
       "    <tr>\n",
       "      <th>3</th>\n",
       "      <td>AI</td>\n",
       "      <td>NaN</td>\n",
       "    </tr>\n",
       "    <tr>\n",
       "      <th>4</th>\n",
       "      <td>AL</td>\n",
       "      <td>EMEA</td>\n",
       "    </tr>\n",
       "    <tr>\n",
       "      <th>...</th>\n",
       "      <td>...</td>\n",
       "      <td>...</td>\n",
       "    </tr>\n",
       "    <tr>\n",
       "      <th>187</th>\n",
       "      <td>VU</td>\n",
       "      <td>APAC</td>\n",
       "    </tr>\n",
       "    <tr>\n",
       "      <th>188</th>\n",
       "      <td>YE</td>\n",
       "      <td>EMEA</td>\n",
       "    </tr>\n",
       "    <tr>\n",
       "      <th>189</th>\n",
       "      <td>ZA</td>\n",
       "      <td>EMEA</td>\n",
       "    </tr>\n",
       "    <tr>\n",
       "      <th>190</th>\n",
       "      <td>ZM</td>\n",
       "      <td>EMEA</td>\n",
       "    </tr>\n",
       "    <tr>\n",
       "      <th>191</th>\n",
       "      <td>ZW</td>\n",
       "      <td>EMEA</td>\n",
       "    </tr>\n",
       "  </tbody>\n",
       "</table>\n",
       "<p>192 rows × 2 columns</p>\n",
       "</div>"
      ]
     },
     "metadata": {},
     "output_type": "display_data"
    }
   ],
   "execution_count": 132
  },
  {
   "metadata": {
    "ExecuteTime": {
     "end_time": "2025-08-29T14:21:12.276837Z",
     "start_time": "2025-08-29T14:21:12.272539Z"
    }
   },
   "cell_type": "code",
   "source": [
    "# ----------------------------------------------------\n",
    "#\n",
    "# 2. Découverte du dataframe principal df\n",
    "#\n",
    "# ----------------------------------------------------"
   ],
   "id": "6173685b2f2dda36",
   "outputs": [],
   "execution_count": 133
  },
  {
   "metadata": {
    "ExecuteTime": {
     "end_time": "2025-08-29T14:21:12.488773Z",
     "start_time": "2025-08-29T14:21:12.482545Z"
    }
   },
   "cell_type": "code",
   "source": "display(df.shape)",
   "id": "d69bef3d3d44cfdf",
   "outputs": [
    {
     "data": {
      "text/plain": [
       "(21864, 11)"
      ]
     },
     "metadata": {},
     "output_type": "display_data"
    }
   ],
   "execution_count": 134
  },
  {
   "metadata": {
    "ExecuteTime": {
     "end_time": "2025-08-29T14:21:12.566526Z",
     "start_time": "2025-08-29T14:21:12.545262Z"
    }
   },
   "cell_type": "code",
   "source": "display(df.info())",
   "id": "32a13b03ff85ab94",
   "outputs": [
    {
     "name": "stdout",
     "output_type": "stream",
     "text": [
      "<class 'pandas.core.frame.DataFrame'>\n",
      "RangeIndex: 21864 entries, 0 to 21863\n",
      "Data columns (total 11 columns):\n",
      " #   Column                   Non-Null Count  Dtype  \n",
      "---  ------                   --------------  -----  \n",
      " 0   USER_ID                  21864 non-null  object \n",
      " 1   ORDER_ID                 21864 non-null  object \n",
      " 2   PURCHASE_TS              21864 non-null  object \n",
      " 3   SHIP_TS                  21864 non-null  int64  \n",
      " 4   PRODUCT_NAME             21864 non-null  object \n",
      " 5   PRODUCT_ID               21864 non-null  object \n",
      " 6   USD_PRICE                21859 non-null  float64\n",
      " 7   PURCHASE_PLATFORM        21864 non-null  object \n",
      " 8   MARKETING_CHANNEL        21781 non-null  object \n",
      " 9   ACCOUNT_CREATION_METHOD  21781 non-null  object \n",
      " 10  COUNTRY_CODE;            21864 non-null  object \n",
      "dtypes: float64(1), int64(1), object(9)\n",
      "memory usage: 1.8+ MB\n"
     ]
    },
    {
     "data": {
      "text/plain": [
       "None"
      ]
     },
     "metadata": {},
     "output_type": "display_data"
    }
   ],
   "execution_count": 135
  },
  {
   "metadata": {
    "ExecuteTime": {
     "end_time": "2025-08-29T14:21:12.658155Z",
     "start_time": "2025-08-29T14:21:12.639749Z"
    }
   },
   "cell_type": "code",
   "source": "display(df.describe())",
   "id": "5dbaff5fed4e061e",
   "outputs": [
    {
     "data": {
      "text/plain": [
       "            SHIP_TS     USD_PRICE\n",
       "count  21864.000000  21859.000000\n",
       "mean   43936.670005    281.406583\n",
       "std      213.954778    366.296410\n",
       "min    43391.000000      0.000000\n",
       "25%    43781.000000    126.000000\n",
       "50%    43974.000000    168.000000\n",
       "75%    44110.000000    357.000000\n",
       "max    44516.000000   3146.880000"
      ],
      "text/html": [
       "<div>\n",
       "<style scoped>\n",
       "    .dataframe tbody tr th:only-of-type {\n",
       "        vertical-align: middle;\n",
       "    }\n",
       "\n",
       "    .dataframe tbody tr th {\n",
       "        vertical-align: top;\n",
       "    }\n",
       "\n",
       "    .dataframe thead th {\n",
       "        text-align: right;\n",
       "    }\n",
       "</style>\n",
       "<table border=\"1\" class=\"dataframe\">\n",
       "  <thead>\n",
       "    <tr style=\"text-align: right;\">\n",
       "      <th></th>\n",
       "      <th>SHIP_TS</th>\n",
       "      <th>USD_PRICE</th>\n",
       "    </tr>\n",
       "  </thead>\n",
       "  <tbody>\n",
       "    <tr>\n",
       "      <th>count</th>\n",
       "      <td>21864.000000</td>\n",
       "      <td>21859.000000</td>\n",
       "    </tr>\n",
       "    <tr>\n",
       "      <th>mean</th>\n",
       "      <td>43936.670005</td>\n",
       "      <td>281.406583</td>\n",
       "    </tr>\n",
       "    <tr>\n",
       "      <th>std</th>\n",
       "      <td>213.954778</td>\n",
       "      <td>366.296410</td>\n",
       "    </tr>\n",
       "    <tr>\n",
       "      <th>min</th>\n",
       "      <td>43391.000000</td>\n",
       "      <td>0.000000</td>\n",
       "    </tr>\n",
       "    <tr>\n",
       "      <th>25%</th>\n",
       "      <td>43781.000000</td>\n",
       "      <td>126.000000</td>\n",
       "    </tr>\n",
       "    <tr>\n",
       "      <th>50%</th>\n",
       "      <td>43974.000000</td>\n",
       "      <td>168.000000</td>\n",
       "    </tr>\n",
       "    <tr>\n",
       "      <th>75%</th>\n",
       "      <td>44110.000000</td>\n",
       "      <td>357.000000</td>\n",
       "    </tr>\n",
       "    <tr>\n",
       "      <th>max</th>\n",
       "      <td>44516.000000</td>\n",
       "      <td>3146.880000</td>\n",
       "    </tr>\n",
       "  </tbody>\n",
       "</table>\n",
       "</div>"
      ]
     },
     "metadata": {},
     "output_type": "display_data"
    }
   ],
   "execution_count": 136
  },
  {
   "metadata": {
    "ExecuteTime": {
     "end_time": "2025-08-29T14:21:12.770333Z",
     "start_time": "2025-08-29T14:21:12.753334Z"
    }
   },
   "cell_type": "code",
   "source": "df.isna().sum()",
   "id": "349ddb3e8b653084",
   "outputs": [
    {
     "data": {
      "text/plain": [
       "USER_ID                     0\n",
       "ORDER_ID                    0\n",
       "PURCHASE_TS                 0\n",
       "SHIP_TS                     0\n",
       "PRODUCT_NAME                0\n",
       "PRODUCT_ID                  0\n",
       "USD_PRICE                   5\n",
       "PURCHASE_PLATFORM           0\n",
       "MARKETING_CHANNEL          83\n",
       "ACCOUNT_CREATION_METHOD    83\n",
       "COUNTRY_CODE;               0\n",
       "dtype: int64"
      ]
     },
     "execution_count": 137,
     "metadata": {},
     "output_type": "execute_result"
    }
   ],
   "execution_count": 137
  },
  {
   "metadata": {
    "ExecuteTime": {
     "end_time": "2025-08-29T14:21:12.967370Z",
     "start_time": "2025-08-29T14:21:12.963523Z"
    }
   },
   "cell_type": "code",
   "source": [
    "# Le dataframe contient 21864 lignes pour 11 colonnes.\n",
    "# Il y a des Nan dans USD_PRICE, MARKETING_CHANNEL et MARKETING_CHANNEL"
   ],
   "id": "c2c0ccf6b59a4448",
   "outputs": [],
   "execution_count": 138
  },
  {
   "metadata": {
    "ExecuteTime": {
     "end_time": "2025-08-29T14:21:13.125012Z",
     "start_time": "2025-08-29T14:21:13.100959Z"
    }
   },
   "cell_type": "code",
   "source": "print(df.duplicated().sum())",
   "id": "93bc2d9f838cae6b",
   "outputs": [
    {
     "name": "stdout",
     "output_type": "stream",
     "text": [
      "35\n"
     ]
    }
   ],
   "execution_count": 139
  },
  {
   "metadata": {
    "ExecuteTime": {
     "end_time": "2025-08-29T14:21:13.246470Z",
     "start_time": "2025-08-29T14:21:13.220432Z"
    }
   },
   "cell_type": "code",
   "source": [
    "# Nous allons supprimer les duplicata dès maintenant pour éviter de polluer la suite de l'analyse\n",
    "df = df.drop_duplicates()"
   ],
   "id": "468e52886b268e28",
   "outputs": [],
   "execution_count": 140
  },
  {
   "metadata": {
    "ExecuteTime": {
     "end_time": "2025-08-29T14:21:13.261750Z",
     "start_time": "2025-08-29T14:21:13.258055Z"
    }
   },
   "cell_type": "code",
   "source": "# Il y a 35 duplicates",
   "id": "c4283b825a508c21",
   "outputs": [],
   "execution_count": 141
  },
  {
   "metadata": {
    "ExecuteTime": {
     "end_time": "2025-08-29T14:21:13.349896Z",
     "start_time": "2025-08-29T14:21:13.313036Z"
    }
   },
   "cell_type": "code",
   "source": [
    "# Analyse colonne par colonne\n",
    "\n",
    "for num in df.columns:\n",
    "    if df[num].dtype == \"object\":\n",
    "        print(df[num].value_counts())\n",
    "    else:\n",
    "        print(df[num].value_counts().sort_index())\n",
    "    print(\"-\" * 60)"
   ],
   "id": "3895bc9c604d669e",
   "outputs": [
    {
     "name": "stdout",
     "output_type": "stream",
     "text": [
      "USER_ID\n",
      "07868dba    4\n",
      "c14ee1a5    4\n",
      "d1d4e5a2    4\n",
      "c38632c6    4\n",
      "3861590f    4\n",
      "           ..\n",
      "ba03bfd7    1\n",
      "0228447d    1\n",
      "a4d90bf8    1\n",
      "c4eb31b0    1\n",
      "a2eaa1d1    1\n",
      "Name: count, Length: 19851, dtype: int64\n",
      "------------------------------------------------------------\n",
      "ORDER_ID\n",
      "f343a3756c474119     2\n",
      "e9372233a6056336     2\n",
      "f2bff88d2085179      2\n",
      "ec7e016928819702     2\n",
      "f47b051bd7983108     2\n",
      "                    ..\n",
      "5f39d1e52cc102362    1\n",
      "5f37e6411f22645      1\n",
      "5f30aa8df5274448     1\n",
      "5f2cd24046d7483      1\n",
      "5f4ceebd9cd71885     1\n",
      "Name: count, Length: 21719, dtype: int64\n",
      "------------------------------------------------------------\n",
      "PURCHASE_TS\n",
      "44184                  95\n",
      "44187                  93\n",
      "44183                  86\n",
      "44188                  84\n",
      "44186                  80\n",
      "                       ..\n",
      "06-14-2019 13:62:34     1\n",
      "12-31-2020 01:54:40     1\n",
      "06-14-2019 13:62:39     1\n",
      "12-31-2020 01:54:39     1\n",
      "06-14-2019 13:62:41     1\n",
      "Name: count, Length: 783, dtype: int64\n",
      "------------------------------------------------------------\n",
      "SHIP_TS\n",
      "43391     2\n",
      "43394     1\n",
      "43396     1\n",
      "43401     1\n",
      "43402     1\n",
      "         ..\n",
      "44255    30\n",
      "44256    33\n",
      "44257    12\n",
      "44258     9\n",
      "44516     1\n",
      "Name: count, Length: 826, dtype: int64\n",
      "------------------------------------------------------------\n",
      "PRODUCT_NAME\n",
      "Nintendo Switch                   10386\n",
      "27in 4K gaming monitor             4627\n",
      "JBL Quantum 100 Gaming Headset     4296\n",
      "Sony PlayStation 5 Bundle           977\n",
      "Dell Gaming Mouse                   719\n",
      "Lenovo IdeaPad Gaming 3             669\n",
      "Acer Nitro V Gaming Laptop           87\n",
      "27inches 4k gaming monitor           61\n",
      "Razer Pro Gaming Headset              7\n",
      "Name: count, dtype: int64\n",
      "------------------------------------------------------------\n",
      "PRODUCT_ID\n",
      "8d0d    6024\n",
      "e682    3806\n",
      "891b    3516\n",
      "ab0f    3446\n",
      "e7e6    1096\n",
      "54ed     970\n",
      "8315     539\n",
      "04ac     433\n",
      "8e5d     383\n",
      "8d4f     355\n",
      "9ef0     235\n",
      "f81e     169\n",
      "b5f7     114\n",
      "4c58     112\n",
      "2997      93\n",
      "22ea      87\n",
      "4db1      85\n",
      "b0ee      72\n",
      "5142      49\n",
      "0c5a      33\n",
      "7416      31\n",
      "afbf      26\n",
      "2a50      24\n",
      "f5ca      20\n",
      "0d23      18\n",
      "6b8d      12\n",
      "7d63      12\n",
      "ab5d      11\n",
      "640d      10\n",
      "1238       7\n",
      "97c6       6\n",
      "a6be       6\n",
      "604c       5\n",
      "7f86       5\n",
      "df85       3\n",
      "e22d       3\n",
      "da12       3\n",
      "24c1       2\n",
      "7599       1\n",
      "03ca       1\n",
      "8364       1\n",
      "7388       1\n",
      "ae96       1\n",
      "12b1       1\n",
      "f443       1\n",
      "4f26       1\n",
      "Name: count, dtype: int64\n",
      "------------------------------------------------------------\n",
      "USD_PRICE\n",
      "0.00       29\n",
      "6.11        3\n",
      "6.32        1\n",
      "6.55        1\n",
      "6.63        1\n",
      "           ..\n",
      "2236.25     1\n",
      "2250.93     2\n",
      "2308.32     1\n",
      "2509.67     1\n",
      "3146.88     1\n",
      "Name: count, Length: 3633, dtype: int64\n",
      "------------------------------------------------------------\n",
      "PURCHASE_PLATFORM\n",
      "website       19748\n",
      "mobile app     2081\n",
      "Name: count, dtype: int64\n",
      "------------------------------------------------------------\n",
      "MARKETING_CHANNEL\n",
      "direct          17403\n",
      "email            3256\n",
      "affiliate         717\n",
      "social media      323\n",
      "unknown            47\n",
      "Name: count, dtype: int64\n",
      "------------------------------------------------------------\n",
      "ACCOUNT_CREATION_METHOD\n",
      "desktop    16434\n",
      "mobile      4225\n",
      "unknown      739\n",
      "tablet       323\n",
      "tv            25\n",
      "Name: count, dtype: int64\n",
      "------------------------------------------------------------\n",
      "COUNTRY_CODE;\n",
      "US;    10275\n",
      "GB;     1806\n",
      "CA;      952\n",
      "AU;      893\n",
      "DE;      853\n",
      "       ...  \n",
      "BF;        1\n",
      "MZ;        1\n",
      "MH;        1\n",
      "MD;        1\n",
      "LC;        1\n",
      "Name: count, Length: 152, dtype: int64\n",
      "------------------------------------------------------------\n"
     ]
    }
   ],
   "execution_count": 142
  },
  {
   "metadata": {
    "ExecuteTime": {
     "end_time": "2025-08-29T14:21:13.398656Z",
     "start_time": "2025-08-29T14:21:13.394698Z"
    }
   },
   "cell_type": "code",
   "source": [
    "# ORDER_ID\n",
    "#   Il y a des ORDER_ID qui revienent plusieurs fois, avec des USER_ID différents\n",
    "\n",
    "# PURCHASE_TS\n",
    "#   Certaines dates sont au format '44186'\n",
    "#   d'autres au format '06-14-2019 13:62:34'\n",
    "\n",
    "# PRODUCT_NAME\n",
    "#   On a '27in 4K gaming monitor'\n",
    "#   et '27inches 4k gaming monitor'\n",
    "\n",
    "# USD_PRICE\n",
    "#   On a des montants à 0 et des Nan, à uniformiser en Nan\n",
    "\n",
    "# MARKETING_CHANNEL\n",
    "#   On a des 'unknown' et des Nan, à uniformiser en Nan\n",
    "\n",
    "# ACCOUNT_CREATION_METHOD\n",
    "#   On a des 'unknown' et des Nan, à uniformiser en Nan\n",
    "\n",
    "# COUNTRY_CODE\n",
    "#   La colonne est rempli de ';'\n",
    "#   Il y a également des valeurs vide et pas Nan, à uniformiser en Nan"
   ],
   "id": "c6b0d20cf2af378e",
   "outputs": [],
   "execution_count": 143
  },
  {
   "metadata": {
    "ExecuteTime": {
     "end_time": "2025-08-29T14:21:13.683461Z",
     "start_time": "2025-08-29T14:21:13.450032Z"
    }
   },
   "cell_type": "code",
   "source": [
    "# Recherche d'outliers\n",
    "\n",
    "for col in df.select_dtypes(include=[\"int64\", \"float64\"]).columns:\n",
    "    plt.figure(figsize=(6, 4))\n",
    "    plt.boxplot(df[col].dropna())\n",
    "    plt.title(f\"Boxplot de {col}\")\n",
    "    plt.xlabel(col)\n",
    "    plt.show()"
   ],
   "id": "14882c56db18526a",
   "outputs": [
    {
     "data": {
      "text/plain": [
       "<Figure size 600x400 with 1 Axes>"
      ],
      "image/png": "[encoded data removed]"
     },
     "metadata": {},
     "output_type": "display_data"
    },
    {
     "data": {
      "text/plain": [
       "<Figure size 600x400 with 1 Axes>"
      ],
      "image/png": "[encoded data removed]"
     },
     "metadata": {},
     "output_type": "display_data"
    }
   ],
   "execution_count": 144
  },
  {
   "metadata": {
    "ExecuteTime": {
     "end_time": "2025-08-29T14:25:41.215503Z",
     "start_time": "2025-08-29T14:25:41.202227Z"
    }
   },
   "cell_type": "code",
   "source": [
    "# Analyse de la valeur maximal\n",
    "\n",
    "# On sort le nom du produit\n",
    "product_max = df.loc[df['USD_PRICE'] == df['USD_PRICE'].max()]['PRODUCT_NAME'].values[0]\n",
    "\n",
    "# Et on le compare aux autres ventes de ce même produit\n",
    "df.loc[df['PRODUCT_NAME'] == product_max]['USD_PRICE'].describe()\n",
    "\n",
    "# Conclusion\n",
    "# Si 3100 USD semble extrêmement cher pour un article vendu en moyenne 1600 USD\n",
    "# c'est tout aussi surprenant de le voir vendu à 375 USD\n",
    "# Sans pouvoir avoir les éclaircissements du métier, nous allons garder cet outlier"
   ],
   "id": "32b5276800b2788e",
   "outputs": [
    {
     "data": {
      "text/plain": [
       "count     977.000000\n",
       "mean     1626.656960\n",
       "std       299.306748\n",
       "min       375.050000\n",
       "25%      1515.150000\n",
       "50%      1699.910000\n",
       "75%      1800.000000\n",
       "max      3146.880000\n",
       "Name: USD_PRICE, dtype: float64"
      ]
     },
     "execution_count": 195,
     "metadata": {},
     "output_type": "execute_result"
    }
   ],
   "execution_count": 195
  },
  {
   "metadata": {
    "ExecuteTime": {
     "end_time": "2025-08-29T14:21:13.699619Z",
     "start_time": "2025-08-29T14:21:13.695436Z"
    }
   },
   "cell_type": "code",
   "source": [
    "# ----------------------------------------------------\n",
    "#\n",
    "# 2. Découverte du dataframe df_region\n",
    "#\n",
    "# ----------------------------------------------------"
   ],
   "id": "998a1f51922cff99",
   "outputs": [],
   "execution_count": 145
  },
  {
   "metadata": {
    "ExecuteTime": {
     "end_time": "2025-08-29T14:21:13.808287Z",
     "start_time": "2025-08-29T14:21:13.786875Z"
    }
   },
   "cell_type": "code",
   "source": [
    "display(df_region.shape)\n",
    "display(df_region.info())\n",
    "display(df_region.describe())"
   ],
   "id": "217bca54620934ff",
   "outputs": [
    {
     "data": {
      "text/plain": [
       "(192, 2)"
      ]
     },
     "metadata": {},
     "output_type": "display_data"
    },
    {
     "name": "stdout",
     "output_type": "stream",
     "text": [
      "<class 'pandas.core.frame.DataFrame'>\n",
      "RangeIndex: 192 entries, 0 to 191\n",
      "Data columns (total 2 columns):\n",
      " #   Column        Non-Null Count  Dtype \n",
      "---  ------        --------------  ----- \n",
      " 0   COUNTRY_CODE  191 non-null    object\n",
      " 1   REGION        169 non-null    object\n",
      "dtypes: object(2)\n",
      "memory usage: 3.1+ KB\n"
     ]
    },
    {
     "data": {
      "text/plain": [
       "None"
      ]
     },
     "metadata": {},
     "output_type": "display_data"
    },
    {
     "data": {
      "text/plain": [
       "       COUNTRY_CODE REGION\n",
       "count           191    169\n",
       "unique          191      5\n",
       "top              AD   EMEA\n",
       "freq              1     98"
      ],
      "text/html": [
       "<div>\n",
       "<style scoped>\n",
       "    .dataframe tbody tr th:only-of-type {\n",
       "        vertical-align: middle;\n",
       "    }\n",
       "\n",
       "    .dataframe tbody tr th {\n",
       "        vertical-align: top;\n",
       "    }\n",
       "\n",
       "    .dataframe thead th {\n",
       "        text-align: right;\n",
       "    }\n",
       "</style>\n",
       "<table border=\"1\" class=\"dataframe\">\n",
       "  <thead>\n",
       "    <tr style=\"text-align: right;\">\n",
       "      <th></th>\n",
       "      <th>COUNTRY_CODE</th>\n",
       "      <th>REGION</th>\n",
       "    </tr>\n",
       "  </thead>\n",
       "  <tbody>\n",
       "    <tr>\n",
       "      <th>count</th>\n",
       "      <td>191</td>\n",
       "      <td>169</td>\n",
       "    </tr>\n",
       "    <tr>\n",
       "      <th>unique</th>\n",
       "      <td>191</td>\n",
       "      <td>5</td>\n",
       "    </tr>\n",
       "    <tr>\n",
       "      <th>top</th>\n",
       "      <td>AD</td>\n",
       "      <td>EMEA</td>\n",
       "    </tr>\n",
       "    <tr>\n",
       "      <th>freq</th>\n",
       "      <td>1</td>\n",
       "      <td>98</td>\n",
       "    </tr>\n",
       "  </tbody>\n",
       "</table>\n",
       "</div>"
      ]
     },
     "metadata": {},
     "output_type": "display_data"
    }
   ],
   "execution_count": 146
  },
  {
   "metadata": {
    "ExecuteTime": {
     "end_time": "2025-08-29T14:21:13.903312Z",
     "start_time": "2025-08-29T14:21:13.899683Z"
    }
   },
   "cell_type": "code",
   "source": "# Le dataframe contient 192 lignes pour 2 colonnes.",
   "id": "4593e06caf9cff9",
   "outputs": [],
   "execution_count": 147
  },
  {
   "metadata": {
    "ExecuteTime": {
     "end_time": "2025-08-29T14:21:14.022582Z",
     "start_time": "2025-08-29T14:21:14.016654Z"
    }
   },
   "cell_type": "code",
   "source": "print(df_region.duplicated().sum())",
   "id": "1347dd77ae8a306c",
   "outputs": [
    {
     "name": "stdout",
     "output_type": "stream",
     "text": [
      "0\n"
     ]
    }
   ],
   "execution_count": 148
  },
  {
   "metadata": {
    "ExecuteTime": {
     "end_time": "2025-08-29T14:21:14.078826Z",
     "start_time": "2025-08-29T14:21:14.075071Z"
    }
   },
   "cell_type": "code",
   "source": "# Le dataframe ne contient pas de duplicate",
   "id": "357e8c16969981e",
   "outputs": [],
   "execution_count": 149
  },
  {
   "metadata": {
    "ExecuteTime": {
     "end_time": "2025-08-29T14:21:14.141871Z",
     "start_time": "2025-08-29T14:21:14.133397Z"
    }
   },
   "cell_type": "code",
   "source": [
    "# Analyse colonne par colonne\n",
    "\n",
    "for num in df_region.columns:\n",
    "    if df_region[num].dtype == \"object\":\n",
    "        print(df_region[num].value_counts())\n",
    "    else:\n",
    "        print(df_region[num].value_counts().sort_index())\n",
    "    print(\"-\" * 60)"
   ],
   "id": "bb576d68f47fde18",
   "outputs": [
    {
     "name": "stdout",
     "output_type": "stream",
     "text": [
      "COUNTRY_CODE\n",
      "AD    1\n",
      "AE    1\n",
      "AG    1\n",
      "AI    1\n",
      "AL    1\n",
      "     ..\n",
      "VU    1\n",
      "YE    1\n",
      "ZA    1\n",
      "ZM    1\n",
      "ZW    1\n",
      "Name: count, Length: 191, dtype: int64\n",
      "------------------------------------------------------------\n",
      "REGION\n",
      "EMEA             98\n",
      "APAC             42\n",
      "LATAM            22\n",
      "North America     5\n",
      "X.x               2\n",
      "Name: count, dtype: int64\n",
      "------------------------------------------------------------\n"
     ]
    }
   ],
   "execution_count": 150
  },
  {
   "metadata": {
    "ExecuteTime": {
     "end_time": "2025-08-29T14:21:14.203750Z",
     "start_time": "2025-08-29T14:21:14.198717Z"
    }
   },
   "cell_type": "code",
   "source": [
    "# REGION\n",
    "#   Les region sont abrégées sauf North America, à remplacer par NA\n",
    "#   Certains pays n'ont pas de Region : elles sont en X.x ou Nan"
   ],
   "id": "2d22cf4dd473d10a",
   "outputs": [],
   "execution_count": 151
  },
  {
   "metadata": {
    "ExecuteTime": {
     "end_time": "2025-08-29T14:21:14.324027Z",
     "start_time": "2025-08-29T14:21:14.304053Z"
    }
   },
   "cell_type": "code",
   "source": [
    "display(df_region.loc[df_region[\"REGION\"] == \"X.x\"])\n",
    "display(df_region.loc[df_region[\"REGION\"].isna()])"
   ],
   "id": "f69da08147f5d629",
   "outputs": [
    {
     "data": {
      "text/plain": [
       "    COUNTRY_CODE REGION\n",
       "113           MH    X.x\n",
       "141           PG    X.x"
      ],
      "text/html": [
       "<div>\n",
       "<style scoped>\n",
       "    .dataframe tbody tr th:only-of-type {\n",
       "        vertical-align: middle;\n",
       "    }\n",
       "\n",
       "    .dataframe tbody tr th {\n",
       "        vertical-align: top;\n",
       "    }\n",
       "\n",
       "    .dataframe thead th {\n",
       "        text-align: right;\n",
       "    }\n",
       "</style>\n",
       "<table border=\"1\" class=\"dataframe\">\n",
       "  <thead>\n",
       "    <tr style=\"text-align: right;\">\n",
       "      <th></th>\n",
       "      <th>COUNTRY_CODE</th>\n",
       "      <th>REGION</th>\n",
       "    </tr>\n",
       "  </thead>\n",
       "  <tbody>\n",
       "    <tr>\n",
       "      <th>113</th>\n",
       "      <td>MH</td>\n",
       "      <td>X.x</td>\n",
       "    </tr>\n",
       "    <tr>\n",
       "      <th>141</th>\n",
       "      <td>PG</td>\n",
       "      <td>X.x</td>\n",
       "    </tr>\n",
       "  </tbody>\n",
       "</table>\n",
       "</div>"
      ]
     },
     "metadata": {},
     "output_type": "display_data"
    },
    {
     "data": {
      "text/plain": [
       "    COUNTRY_CODE REGION\n",
       "2             AG    NaN\n",
       "3             AI    NaN\n",
       "25            BQ    NaN\n",
       "27            BS    NaN\n",
       "44            CW    NaN\n",
       "61            GD    NaN\n",
       "67            GL    NaN\n",
       "69            GP    NaN\n",
       "80            IE    NaN\n",
       "89            JM    NaN\n",
       "95            KN    NaN\n",
       "98            KY    NaN\n",
       "101           LB    NaN\n",
       "102           LC    NaN\n",
       "120           MQ    NaN\n",
       "145           PR    NaN\n",
       "166           SX    NaN\n",
       "167           TC    NaN\n",
       "174           TT    NaN\n",
       "179           US    NaN\n",
       "182           VC    NaN\n",
       "184           VG    NaN\n",
       "185           VI    NaN"
      ],
      "text/html": [
       "<div>\n",
       "<style scoped>\n",
       "    .dataframe tbody tr th:only-of-type {\n",
       "        vertical-align: middle;\n",
       "    }\n",
       "\n",
       "    .dataframe tbody tr th {\n",
       "        vertical-align: top;\n",
       "    }\n",
       "\n",
       "    .dataframe thead th {\n",
       "        text-align: right;\n",
       "    }\n",
       "</style>\n",
       "<table border=\"1\" class=\"dataframe\">\n",
       "  <thead>\n",
       "    <tr style=\"text-align: right;\">\n",
       "      <th></th>\n",
       "      <th>COUNTRY_CODE</th>\n",
       "      <th>REGION</th>\n",
       "    </tr>\n",
       "  </thead>\n",
       "  <tbody>\n",
       "    <tr>\n",
       "      <th>2</th>\n",
       "      <td>AG</td>\n",
       "      <td>NaN</td>\n",
       "    </tr>\n",
       "    <tr>\n",
       "      <th>3</th>\n",
       "      <td>AI</td>\n",
       "      <td>NaN</td>\n",
       "    </tr>\n",
       "    <tr>\n",
       "      <th>25</th>\n",
       "      <td>BQ</td>\n",
       "      <td>NaN</td>\n",
       "    </tr>\n",
       "    <tr>\n",
       "      <th>27</th>\n",
       "      <td>BS</td>\n",
       "      <td>NaN</td>\n",
       "    </tr>\n",
       "    <tr>\n",
       "      <th>44</th>\n",
       "      <td>CW</td>\n",
       "      <td>NaN</td>\n",
       "    </tr>\n",
       "    <tr>\n",
       "      <th>61</th>\n",
       "      <td>GD</td>\n",
       "      <td>NaN</td>\n",
       "    </tr>\n",
       "    <tr>\n",
       "      <th>67</th>\n",
       "      <td>GL</td>\n",
       "      <td>NaN</td>\n",
       "    </tr>\n",
       "    <tr>\n",
       "      <th>69</th>\n",
       "      <td>GP</td>\n",
       "      <td>NaN</td>\n",
       "    </tr>\n",
       "    <tr>\n",
       "      <th>80</th>\n",
       "      <td>IE</td>\n",
       "      <td>NaN</td>\n",
       "    </tr>\n",
       "    <tr>\n",
       "      <th>89</th>\n",
       "      <td>JM</td>\n",
       "      <td>NaN</td>\n",
       "    </tr>\n",
       "    <tr>\n",
       "      <th>95</th>\n",
       "      <td>KN</td>\n",
       "      <td>NaN</td>\n",
       "    </tr>\n",
       "    <tr>\n",
       "      <th>98</th>\n",
       "      <td>KY</td>\n",
       "      <td>NaN</td>\n",
       "    </tr>\n",
       "    <tr>\n",
       "      <th>101</th>\n",
       "      <td>LB</td>\n",
       "      <td>NaN</td>\n",
       "    </tr>\n",
       "    <tr>\n",
       "      <th>102</th>\n",
       "      <td>LC</td>\n",
       "      <td>NaN</td>\n",
       "    </tr>\n",
       "    <tr>\n",
       "      <th>120</th>\n",
       "      <td>MQ</td>\n",
       "      <td>NaN</td>\n",
       "    </tr>\n",
       "    <tr>\n",
       "      <th>145</th>\n",
       "      <td>PR</td>\n",
       "      <td>NaN</td>\n",
       "    </tr>\n",
       "    <tr>\n",
       "      <th>166</th>\n",
       "      <td>SX</td>\n",
       "      <td>NaN</td>\n",
       "    </tr>\n",
       "    <tr>\n",
       "      <th>167</th>\n",
       "      <td>TC</td>\n",
       "      <td>NaN</td>\n",
       "    </tr>\n",
       "    <tr>\n",
       "      <th>174</th>\n",
       "      <td>TT</td>\n",
       "      <td>NaN</td>\n",
       "    </tr>\n",
       "    <tr>\n",
       "      <th>179</th>\n",
       "      <td>US</td>\n",
       "      <td>NaN</td>\n",
       "    </tr>\n",
       "    <tr>\n",
       "      <th>182</th>\n",
       "      <td>VC</td>\n",
       "      <td>NaN</td>\n",
       "    </tr>\n",
       "    <tr>\n",
       "      <th>184</th>\n",
       "      <td>VG</td>\n",
       "      <td>NaN</td>\n",
       "    </tr>\n",
       "    <tr>\n",
       "      <th>185</th>\n",
       "      <td>VI</td>\n",
       "      <td>NaN</td>\n",
       "    </tr>\n",
       "  </tbody>\n",
       "</table>\n",
       "</div>"
      ]
     },
     "metadata": {},
     "output_type": "display_data"
    }
   ],
   "execution_count": 152
  },
  {
   "metadata": {
    "ExecuteTime": {
     "end_time": "2025-08-29T14:21:14.483190Z",
     "start_time": "2025-08-29T14:21:14.478417Z"
    }
   },
   "cell_type": "code",
   "source": [
    "# ----------------------------------------------------------\n",
    "#\n",
    "# 3. Data Cleaning\n",
    "#\n",
    "# ----------------------------------------------------------"
   ],
   "id": "9f7e496528042e4f",
   "outputs": [],
   "execution_count": 153
  },
  {
   "metadata": {
    "ExecuteTime": {
     "end_time": "2025-08-29T14:21:14.689685Z",
     "start_time": "2025-08-29T14:21:14.685882Z"
    }
   },
   "cell_type": "code",
   "source": [
    "# 1. ORDER_ID\n",
    "#   Il y a des ORDER_ID qui revienent plusieurs fois, avec des USER_ID différents"
   ],
   "id": "27f501d67daa3851",
   "outputs": [],
   "execution_count": 154
  },
  {
   "metadata": {
    "ExecuteTime": {
     "end_time": "2025-08-29T14:21:14.829665Z",
     "start_time": "2025-08-29T14:21:14.785863Z"
    }
   },
   "cell_type": "code",
   "source": [
    "q = \"\"\"\n",
    "SELECT\n",
    "    ORDER_ID,\n",
    "    count(USER_ID) as nb\n",
    "FROM df\n",
    "GROUP BY ORDER_ID\n",
    "HAVING nb = 2\n",
    "\"\"\"\n",
    "list_id = duckdb.sql(q).df()[\"ORDER_ID\"].tolist()\n",
    "\n",
    "df.loc[df[\"ORDER_ID\"].isin(list_id)]"
   ],
   "id": "50117ed62367e0c2",
   "outputs": [
    {
     "data": {
      "text/plain": [
       "        USER_ID          ORDER_ID PURCHASE_TS  SHIP_TS  \\\n",
       "9921   e80b93ad  815caec5eb998020       43860    43861   \n",
       "9922   e80b93ad  815caec5eb998020       43860    43861   \n",
       "13502  3bb56d71  add88586a5827183       43852    43853   \n",
       "13503  3bb56d71  add88586a5827183       43852    43853   \n",
       "18909  52e2062d  e44ebe4eed936564       44237    44238   \n",
       "...         ...               ...         ...      ...   \n",
       "21735   b0a2896  fecc9d6766231653       44249    44252   \n",
       "21742  e69c1f1e  fede5c24b0797422       44250    44252   \n",
       "21743   9c12903  fede5c24b0797422       44250    44252   \n",
       "21751  ebf6f56d  fef061c2a1499684       44233    44236   \n",
       "21752   f6f3685  fef061c2a1499684       44233    44236   \n",
       "\n",
       "                 PRODUCT_NAME PRODUCT_ID  USD_PRICE PURCHASE_PLATFORM  \\\n",
       "9921   27in 4K gaming monitor       891b     408.20           website   \n",
       "9922   27in 4K gaming monitor       891b     408.20           website   \n",
       "13502  27in 4K gaming monitor       891b     484.89           website   \n",
       "13503  27in 4K gaming monitor       891b     484.89           website   \n",
       "18909         Nintendo Switch       e682     102.88           website   \n",
       "...                       ...        ...        ...               ...   \n",
       "21735         Nintendo Switch       8d0d     184.90           website   \n",
       "21742         Nintendo Switch       8d0d     142.80           website   \n",
       "21743         Nintendo Switch       8d0d     142.80           website   \n",
       "21751         Nintendo Switch       e682     164.42           website   \n",
       "21752         Nintendo Switch       e682     164.42           website   \n",
       "\n",
       "      MARKETING_CHANNEL ACCOUNT_CREATION_METHOD COUNTRY_CODE;  \n",
       "9921              email                  mobile           DE;  \n",
       "9922              email                 desktop           DE;  \n",
       "13502             email                  mobile           GB;  \n",
       "13503             email                 desktop           GB;  \n",
       "18909            direct                 desktop           MX;  \n",
       "...                 ...                     ...           ...  \n",
       "21735            direct                 desktop           GB;  \n",
       "21742            direct                 desktop           US;  \n",
       "21743            direct                 desktop           US;  \n",
       "21751            direct                 desktop           ES;  \n",
       "21752            direct                 desktop           ES;  \n",
       "\n",
       "[220 rows x 11 columns]"
      ],
      "text/html": [
       "<div>\n",
       "<style scoped>\n",
       "    .dataframe tbody tr th:only-of-type {\n",
       "        vertical-align: middle;\n",
       "    }\n",
       "\n",
       "    .dataframe tbody tr th {\n",
       "        vertical-align: top;\n",
       "    }\n",
       "\n",
       "    .dataframe thead th {\n",
       "        text-align: right;\n",
       "    }\n",
       "</style>\n",
       "<table border=\"1\" class=\"dataframe\">\n",
       "  <thead>\n",
       "    <tr style=\"text-align: right;\">\n",
       "      <th></th>\n",
       "      <th>USER_ID</th>\n",
       "      <th>ORDER_ID</th>\n",
       "      <th>PURCHASE_TS</th>\n",
       "      <th>SHIP_TS</th>\n",
       "      <th>PRODUCT_NAME</th>\n",
       "      <th>PRODUCT_ID</th>\n",
       "      <th>USD_PRICE</th>\n",
       "      <th>PURCHASE_PLATFORM</th>\n",
       "      <th>MARKETING_CHANNEL</th>\n",
       "      <th>ACCOUNT_CREATION_METHOD</th>\n",
       "      <th>COUNTRY_CODE;</th>\n",
       "    </tr>\n",
       "  </thead>\n",
       "  <tbody>\n",
       "    <tr>\n",
       "      <th>9921</th>\n",
       "      <td>e80b93ad</td>\n",
       "      <td>815caec5eb998020</td>\n",
       "      <td>43860</td>\n",
       "      <td>43861</td>\n",
       "      <td>27in 4K gaming monitor</td>\n",
       "      <td>891b</td>\n",
       "      <td>408.20</td>\n",
       "      <td>website</td>\n",
       "      <td>email</td>\n",
       "      <td>mobile</td>\n",
       "      <td>DE;</td>\n",
       "    </tr>\n",
       "    <tr>\n",
       "      <th>9922</th>\n",
       "      <td>e80b93ad</td>\n",
       "      <td>815caec5eb998020</td>\n",
       "      <td>43860</td>\n",
       "      <td>43861</td>\n",
       "      <td>27in 4K gaming monitor</td>\n",
       "      <td>891b</td>\n",
       "      <td>408.20</td>\n",
       "      <td>website</td>\n",
       "      <td>email</td>\n",
       "      <td>desktop</td>\n",
       "      <td>DE;</td>\n",
       "    </tr>\n",
       "    <tr>\n",
       "      <th>13502</th>\n",
       "      <td>3bb56d71</td>\n",
       "      <td>add88586a5827183</td>\n",
       "      <td>43852</td>\n",
       "      <td>43853</td>\n",
       "      <td>27in 4K gaming monitor</td>\n",
       "      <td>891b</td>\n",
       "      <td>484.89</td>\n",
       "      <td>website</td>\n",
       "      <td>email</td>\n",
       "      <td>mobile</td>\n",
       "      <td>GB;</td>\n",
       "    </tr>\n",
       "    <tr>\n",
       "      <th>13503</th>\n",
       "      <td>3bb56d71</td>\n",
       "      <td>add88586a5827183</td>\n",
       "      <td>43852</td>\n",
       "      <td>43853</td>\n",
       "      <td>27in 4K gaming monitor</td>\n",
       "      <td>891b</td>\n",
       "      <td>484.89</td>\n",
       "      <td>website</td>\n",
       "      <td>email</td>\n",
       "      <td>desktop</td>\n",
       "      <td>GB;</td>\n",
       "    </tr>\n",
       "    <tr>\n",
       "      <th>18909</th>\n",
       "      <td>52e2062d</td>\n",
       "      <td>e44ebe4eed936564</td>\n",
       "      <td>44237</td>\n",
       "      <td>44238</td>\n",
       "      <td>Nintendo Switch</td>\n",
       "      <td>e682</td>\n",
       "      <td>102.88</td>\n",
       "      <td>website</td>\n",
       "      <td>direct</td>\n",
       "      <td>desktop</td>\n",
       "      <td>MX;</td>\n",
       "    </tr>\n",
       "    <tr>\n",
       "      <th>...</th>\n",
       "      <td>...</td>\n",
       "      <td>...</td>\n",
       "      <td>...</td>\n",
       "      <td>...</td>\n",
       "      <td>...</td>\n",
       "      <td>...</td>\n",
       "      <td>...</td>\n",
       "      <td>...</td>\n",
       "      <td>...</td>\n",
       "      <td>...</td>\n",
       "      <td>...</td>\n",
       "    </tr>\n",
       "    <tr>\n",
       "      <th>21735</th>\n",
       "      <td>b0a2896</td>\n",
       "      <td>fecc9d6766231653</td>\n",
       "      <td>44249</td>\n",
       "      <td>44252</td>\n",
       "      <td>Nintendo Switch</td>\n",
       "      <td>8d0d</td>\n",
       "      <td>184.90</td>\n",
       "      <td>website</td>\n",
       "      <td>direct</td>\n",
       "      <td>desktop</td>\n",
       "      <td>GB;</td>\n",
       "    </tr>\n",
       "    <tr>\n",
       "      <th>21742</th>\n",
       "      <td>e69c1f1e</td>\n",
       "      <td>fede5c24b0797422</td>\n",
       "      <td>44250</td>\n",
       "      <td>44252</td>\n",
       "      <td>Nintendo Switch</td>\n",
       "      <td>8d0d</td>\n",
       "      <td>142.80</td>\n",
       "      <td>website</td>\n",
       "      <td>direct</td>\n",
       "      <td>desktop</td>\n",
       "      <td>US;</td>\n",
       "    </tr>\n",
       "    <tr>\n",
       "      <th>21743</th>\n",
       "      <td>9c12903</td>\n",
       "      <td>fede5c24b0797422</td>\n",
       "      <td>44250</td>\n",
       "      <td>44252</td>\n",
       "      <td>Nintendo Switch</td>\n",
       "      <td>8d0d</td>\n",
       "      <td>142.80</td>\n",
       "      <td>website</td>\n",
       "      <td>direct</td>\n",
       "      <td>desktop</td>\n",
       "      <td>US;</td>\n",
       "    </tr>\n",
       "    <tr>\n",
       "      <th>21751</th>\n",
       "      <td>ebf6f56d</td>\n",
       "      <td>fef061c2a1499684</td>\n",
       "      <td>44233</td>\n",
       "      <td>44236</td>\n",
       "      <td>Nintendo Switch</td>\n",
       "      <td>e682</td>\n",
       "      <td>164.42</td>\n",
       "      <td>website</td>\n",
       "      <td>direct</td>\n",
       "      <td>desktop</td>\n",
       "      <td>ES;</td>\n",
       "    </tr>\n",
       "    <tr>\n",
       "      <th>21752</th>\n",
       "      <td>f6f3685</td>\n",
       "      <td>fef061c2a1499684</td>\n",
       "      <td>44233</td>\n",
       "      <td>44236</td>\n",
       "      <td>Nintendo Switch</td>\n",
       "      <td>e682</td>\n",
       "      <td>164.42</td>\n",
       "      <td>website</td>\n",
       "      <td>direct</td>\n",
       "      <td>desktop</td>\n",
       "      <td>ES;</td>\n",
       "    </tr>\n",
       "  </tbody>\n",
       "</table>\n",
       "<p>220 rows × 11 columns</p>\n",
       "</div>"
      ]
     },
     "execution_count": 155,
     "metadata": {},
     "output_type": "execute_result"
    }
   ],
   "execution_count": 155
  },
  {
   "metadata": {
    "ExecuteTime": {
     "end_time": "2025-08-29T14:21:14.916258Z",
     "start_time": "2025-08-29T14:21:14.911961Z"
    }
   },
   "cell_type": "code",
   "source": [
    "# Les raisons de ces \"doublons\" d'ORDER_ID peuvent provenir d'une anomalie du USER_ID ou de l'ACCOUNT_CREATION_METHOD\n",
    "# Nous allons laisser la donnée en l'état ne sachant pas comment y remédier"
   ],
   "id": "7b48bf247114aeeb",
   "outputs": [],
   "execution_count": 156
  },
  {
   "metadata": {
    "ExecuteTime": {
     "end_time": "2025-08-29T14:21:15.043975Z",
     "start_time": "2025-08-29T14:21:15.040277Z"
    }
   },
   "cell_type": "code",
   "source": [
    "# 2. PURCHASE_TS\n",
    "#   Certaines dates sont au format '44186'\n",
    "#   d'autres au format '06-14-2019 13:62:34'"
   ],
   "id": "91369ed839389165",
   "outputs": [],
   "execution_count": 157
  },
  {
   "metadata": {
    "ExecuteTime": {
     "end_time": "2025-08-29T14:21:15.359338Z",
     "start_time": "2025-08-29T14:21:15.126353Z"
    }
   },
   "cell_type": "code",
   "source": [
    "def convert_mixed_dates(date_value: str) -> datetime | None:\n",
    "    if pd.isna(date_value):\n",
    "        return None\n",
    "\n",
    "    date_str = str(date_value).strip()\n",
    "    # Si c'est un nombre (format Excel)\n",
    "    if date_str.isdigit():\n",
    "        # Convertir le numéro de série Excel en date\n",
    "        excel_date = int(date_str)\n",
    "        # Excel compte depuis le 1er janvier 1900, mais il y a une erreur de 2 jours dans Excel\n",
    "        base_date = datetime(1899, 12, 30)  # Correction de l'erreur Excel\n",
    "        converted_date = base_date + timedelta(days=excel_date)\n",
    "        return converted_date.strftime(\"%d/%m/%Y\")\n",
    "\n",
    "    # Si c'est un format datetime\n",
    "    else:\n",
    "        try:\n",
    "            # Corriger les secondes invalides (62 -> 59 par exemple)\n",
    "            if \"13:62:34\" in date_str:\n",
    "                date_str = date_str.replace(\"13:62:34\", \"13:59:34\")\n",
    "            # Vous pouvez ajouter d'autres corrections si nécessaire\n",
    "\n",
    "            # Parser le format MM-DD-YYYY HH:MM:SS\n",
    "            parsed_date = pd.to_datetime(date_str, format=\"%m-%d-%Y %H:%M:%S\")\n",
    "            return parsed_date.strftime(\"%d/%m/%Y\")\n",
    "        except:\n",
    "            try:\n",
    "                # Essayer d'autres formats si le premier échoue\n",
    "                parsed_date = pd.to_datetime(date_str, errors=\"coerce\")\n",
    "                if not pd.isna(parsed_date):\n",
    "                    return parsed_date.strftime(\"%d/%m/%Y\")\n",
    "            except:\n",
    "                pass\n",
    "\n",
    "    return None\n",
    "\n",
    "\n",
    "# Appliquer la conversion\n",
    "df[\"PURCHASE_TS\"] = df[\"PURCHASE_TS\"].apply(convert_mixed_dates)\n",
    "df[\"SHIP_TS\"] = df[\"SHIP_TS\"].apply(convert_mixed_dates)"
   ],
   "id": "1abb8b0b97b7daac",
   "outputs": [],
   "execution_count": 158
  },
  {
   "metadata": {
    "ExecuteTime": {
     "end_time": "2025-08-29T14:21:15.442273Z",
     "start_time": "2025-08-29T14:21:15.428575Z"
    }
   },
   "cell_type": "code",
   "source": [
    "df.loc[df[\"PURCHASE_TS\"].isna()]"
   ],
   "id": "608781f35436659f",
   "outputs": [
    {
     "data": {
      "text/plain": [
       "        USER_ID          ORDER_ID PURCHASE_TS     SHIP_TS  \\\n",
       "1047   a5298a4d  0dda212aaea69940        None  08/07/2019   \n",
       "5846   a81bb521  4cd9ab100d971208        None  11/01/2021   \n",
       "11853  2fa9f33d  99d824517da22388        None  11/04/2019   \n",
       "20725  67f8050b  f4de38506b644875        None  17/01/2019   \n",
       "\n",
       "                         PRODUCT_NAME PRODUCT_ID  USD_PRICE PURCHASE_PLATFORM  \\\n",
       "1047   JBL Quantum 100 Gaming Headset       ab0f      21.96           website   \n",
       "5846                  Nintendo Switch       8d0d     120.26           website   \n",
       "11853  JBL Quantum 100 Gaming Headset       ab0f      21.19           website   \n",
       "20725  JBL Quantum 100 Gaming Headset       ab0f      25.69           website   \n",
       "\n",
       "      MARKETING_CHANNEL ACCOUNT_CREATION_METHOD COUNTRY_CODE;  \n",
       "1047             direct                 desktop           FR;  \n",
       "5846             direct                 desktop           IE;  \n",
       "11853            direct                  mobile           JP;  \n",
       "20725            direct                 desktop           GB;  "
      ],
      "text/html": [
       "<div>\n",
       "<style scoped>\n",
       "    .dataframe tbody tr th:only-of-type {\n",
       "        vertical-align: middle;\n",
       "    }\n",
       "\n",
       "    .dataframe tbody tr th {\n",
       "        vertical-align: top;\n",
       "    }\n",
       "\n",
       "    .dataframe thead th {\n",
       "        text-align: right;\n",
       "    }\n",
       "</style>\n",
       "<table border=\"1\" class=\"dataframe\">\n",
       "  <thead>\n",
       "    <tr style=\"text-align: right;\">\n",
       "      <th></th>\n",
       "      <th>USER_ID</th>\n",
       "      <th>ORDER_ID</th>\n",
       "      <th>PURCHASE_TS</th>\n",
       "      <th>SHIP_TS</th>\n",
       "      <th>PRODUCT_NAME</th>\n",
       "      <th>PRODUCT_ID</th>\n",
       "      <th>USD_PRICE</th>\n",
       "      <th>PURCHASE_PLATFORM</th>\n",
       "      <th>MARKETING_CHANNEL</th>\n",
       "      <th>ACCOUNT_CREATION_METHOD</th>\n",
       "      <th>COUNTRY_CODE;</th>\n",
       "    </tr>\n",
       "  </thead>\n",
       "  <tbody>\n",
       "    <tr>\n",
       "      <th>1047</th>\n",
       "      <td>a5298a4d</td>\n",
       "      <td>0dda212aaea69940</td>\n",
       "      <td>None</td>\n",
       "      <td>08/07/2019</td>\n",
       "      <td>JBL Quantum 100 Gaming Headset</td>\n",
       "      <td>ab0f</td>\n",
       "      <td>21.96</td>\n",
       "      <td>website</td>\n",
       "      <td>direct</td>\n",
       "      <td>desktop</td>\n",
       "      <td>FR;</td>\n",
       "    </tr>\n",
       "    <tr>\n",
       "      <th>5846</th>\n",
       "      <td>a81bb521</td>\n",
       "      <td>4cd9ab100d971208</td>\n",
       "      <td>None</td>\n",
       "      <td>11/01/2021</td>\n",
       "      <td>Nintendo Switch</td>\n",
       "      <td>8d0d</td>\n",
       "      <td>120.26</td>\n",
       "      <td>website</td>\n",
       "      <td>direct</td>\n",
       "      <td>desktop</td>\n",
       "      <td>IE;</td>\n",
       "    </tr>\n",
       "    <tr>\n",
       "      <th>11853</th>\n",
       "      <td>2fa9f33d</td>\n",
       "      <td>99d824517da22388</td>\n",
       "      <td>None</td>\n",
       "      <td>11/04/2019</td>\n",
       "      <td>JBL Quantum 100 Gaming Headset</td>\n",
       "      <td>ab0f</td>\n",
       "      <td>21.19</td>\n",
       "      <td>website</td>\n",
       "      <td>direct</td>\n",
       "      <td>mobile</td>\n",
       "      <td>JP;</td>\n",
       "    </tr>\n",
       "    <tr>\n",
       "      <th>20725</th>\n",
       "      <td>67f8050b</td>\n",
       "      <td>f4de38506b644875</td>\n",
       "      <td>None</td>\n",
       "      <td>17/01/2019</td>\n",
       "      <td>JBL Quantum 100 Gaming Headset</td>\n",
       "      <td>ab0f</td>\n",
       "      <td>25.69</td>\n",
       "      <td>website</td>\n",
       "      <td>direct</td>\n",
       "      <td>desktop</td>\n",
       "      <td>GB;</td>\n",
       "    </tr>\n",
       "  </tbody>\n",
       "</table>\n",
       "</div>"
      ]
     },
     "execution_count": 159,
     "metadata": {},
     "output_type": "execute_result"
    }
   ],
   "execution_count": 159
  },
  {
   "metadata": {
    "ExecuteTime": {
     "end_time": "2025-08-29T14:21:15.762098Z",
     "start_time": "2025-08-29T14:21:15.758494Z"
    }
   },
   "cell_type": "code",
   "source": [
    "# 3. PRODUCT_NAME\n",
    "#   On a '27in 4K gaming monitor'\n",
    "#   et '27inches 4k gaming monitor'"
   ],
   "id": "5a602b8d3c715d07",
   "outputs": [],
   "execution_count": 160
  },
  {
   "metadata": {
    "ExecuteTime": {
     "end_time": "2025-08-29T14:21:15.872814Z",
     "start_time": "2025-08-29T14:21:15.865553Z"
    }
   },
   "cell_type": "code",
   "source": [
    "df[\"PRODUCT_NAME\"] = df[\"PRODUCT_NAME\"].replace(\n",
    "    to_replace=\"27inches 4k gaming monitor\", value=\"27in 4K gaming monitor\"\n",
    ")"
   ],
   "id": "825ccb2e4b140755",
   "outputs": [],
   "execution_count": 161
  },
  {
   "metadata": {
    "ExecuteTime": {
     "end_time": "2025-08-29T14:21:15.896790Z",
     "start_time": "2025-08-29T14:21:15.885342Z"
    }
   },
   "cell_type": "code",
   "source": [
    "df[\"PRODUCT_NAME\"].unique()"
   ],
   "id": "16223cf7d5671f08",
   "outputs": [
    {
     "data": {
      "text/plain": [
       "array(['Nintendo Switch', 'Sony PlayStation 5 Bundle',\n",
       "       '27in 4K gaming monitor', 'JBL Quantum 100 Gaming Headset',\n",
       "       'Dell Gaming Mouse', 'Acer Nitro V Gaming Laptop',\n",
       "       'Lenovo IdeaPad Gaming 3', 'Razer Pro Gaming Headset'],\n",
       "      dtype=object)"
      ]
     },
     "execution_count": 162,
     "metadata": {},
     "output_type": "execute_result"
    }
   ],
   "execution_count": 162
  },
  {
   "metadata": {
    "ExecuteTime": {
     "end_time": "2025-08-29T14:21:15.964367Z",
     "start_time": "2025-08-29T14:21:15.960395Z"
    }
   },
   "cell_type": "code",
   "source": [
    "# 4. USD_PRICE\n",
    "#   On a des montants à 0 et des Nan, à uniformiser en Nan"
   ],
   "id": "fcffd8cc8f3a6bed",
   "outputs": [],
   "execution_count": 163
  },
  {
   "metadata": {
    "ExecuteTime": {
     "end_time": "2025-08-29T14:21:16.020127Z",
     "start_time": "2025-08-29T14:21:16.013026Z"
    }
   },
   "cell_type": "code",
   "source": [
    "df[\"USD_PRICE\"] = df[\"USD_PRICE\"].replace(to_replace=0, value=np.nan)\n",
    "df[\"USD_PRICE\"].isna().sum()"
   ],
   "id": "2ce883fd3b3acb3d",
   "outputs": [
    {
     "data": {
      "text/plain": [
       "np.int64(34)"
      ]
     },
     "execution_count": 164,
     "metadata": {},
     "output_type": "execute_result"
    }
   ],
   "execution_count": 164
  },
  {
   "metadata": {
    "ExecuteTime": {
     "end_time": "2025-08-29T14:21:16.088610Z",
     "start_time": "2025-08-29T14:21:16.084807Z"
    }
   },
   "cell_type": "code",
   "source": [
    "# 5. MARKETING_CHANNEL\n",
    "#   On a des 'unknown' et des Nan, à uniformiser en Nan"
   ],
   "id": "2ecf6ed5d905b28e",
   "outputs": [],
   "execution_count": 165
  },
  {
   "metadata": {
    "ExecuteTime": {
     "end_time": "2025-08-29T14:21:16.151349Z",
     "start_time": "2025-08-29T14:21:16.141218Z"
    }
   },
   "cell_type": "code",
   "source": [
    "df[\"MARKETING_CHANNEL\"] = df[\"MARKETING_CHANNEL\"].replace(\n",
    "    to_replace=\"unknown\", value=np.nan\n",
    ")\n",
    "df[\"MARKETING_CHANNEL\"].isna().sum()"
   ],
   "id": "eaef01b781d6452b",
   "outputs": [
    {
     "data": {
      "text/plain": [
       "np.int64(130)"
      ]
     },
     "execution_count": 166,
     "metadata": {},
     "output_type": "execute_result"
    }
   ],
   "execution_count": 166
  },
  {
   "metadata": {
    "ExecuteTime": {
     "end_time": "2025-08-29T14:21:16.222784Z",
     "start_time": "2025-08-29T14:21:16.218553Z"
    }
   },
   "cell_type": "code",
   "source": [
    "# 6. ACCOUNT_CREATION_METHOD\n",
    "#   On a des 'unknown' et des Nan, à uniformiser en Nan"
   ],
   "id": "b9cdab5c94c3b17d",
   "outputs": [],
   "execution_count": 167
  },
  {
   "metadata": {
    "ExecuteTime": {
     "end_time": "2025-08-29T14:21:16.283772Z",
     "start_time": "2025-08-29T14:21:16.273406Z"
    }
   },
   "cell_type": "code",
   "source": [
    "df[\"ACCOUNT_CREATION_METHOD\"] = df[\"ACCOUNT_CREATION_METHOD\"].replace(\n",
    "    to_replace=\"unknown\", value=np.nan\n",
    ")\n",
    "df[\"ACCOUNT_CREATION_METHOD\"].isna().sum()"
   ],
   "id": "5eef85f557acd3b7",
   "outputs": [
    {
     "data": {
      "text/plain": [
       "np.int64(822)"
      ]
     },
     "execution_count": 168,
     "metadata": {},
     "output_type": "execute_result"
    }
   ],
   "execution_count": 168
  },
  {
   "metadata": {
    "ExecuteTime": {
     "end_time": "2025-08-29T14:21:16.353811Z",
     "start_time": "2025-08-29T14:21:16.349974Z"
    }
   },
   "cell_type": "code",
   "source": [
    "# 7. COUNTRY_CODE\n",
    "#   La colonne est rempli de ';'\n",
    "#   Il y a également des valeurs vide et pas Nan, à uniformiser en Nan"
   ],
   "id": "b511abb7b9d0843b",
   "outputs": [],
   "execution_count": 169
  },
  {
   "metadata": {
    "ExecuteTime": {
     "end_time": "2025-08-29T14:21:16.486345Z",
     "start_time": "2025-08-29T14:21:16.409034Z"
    }
   },
   "cell_type": "code",
   "source": [
    "df.columns = df.columns.str.rstrip(\";\")\n",
    "df = df.applymap(lambda x: x.rstrip(\";\") if isinstance(x, str) else x)"
   ],
   "id": "bacc5d9684bbe2de",
   "outputs": [
    {
     "name": "stderr",
     "output_type": "stream",
     "text": [
      "/tmp/ipykernel_15194/2361678511.py:2: FutureWarning: DataFrame.applymap has been deprecated. Use DataFrame.map instead.\n",
      "  df = df.applymap(lambda x: x.rstrip(\";\") if isinstance(x, str) else x)\n"
     ]
    }
   ],
   "execution_count": 170
  },
  {
   "metadata": {
    "ExecuteTime": {
     "end_time": "2025-08-29T14:21:16.559305Z",
     "start_time": "2025-08-29T14:21:16.551094Z"
    }
   },
   "cell_type": "code",
   "source": [
    "df[\"COUNTRY_CODE\"] = df[\"COUNTRY_CODE\"].replace(to_replace=\"\", value=np.nan)"
   ],
   "id": "bb4e5fac8f1b8777",
   "outputs": [],
   "execution_count": 171
  },
  {
   "metadata": {
    "ExecuteTime": {
     "end_time": "2025-08-29T14:21:16.628138Z",
     "start_time": "2025-08-29T14:21:16.624453Z"
    }
   },
   "cell_type": "code",
   "source": [
    "# 8. REGION\n",
    "#   Les region sont abrégées sauf North America, à remplacer par NA\n",
    "#   Certains pays n'ont pas de Region : elles sont en X.x ou Nan"
   ],
   "id": "ac26b4c640bc54aa",
   "outputs": [],
   "execution_count": 172
  },
  {
   "metadata": {
    "ExecuteTime": {
     "end_time": "2025-08-29T14:21:16.694987Z",
     "start_time": "2025-08-29T14:21:16.687254Z"
    }
   },
   "cell_type": "code",
   "source": [
    "df_region[\"REGION\"] = df_region[\"REGION\"].replace(\n",
    "    to_replace=\"North America\", value=\"NA\"\n",
    ")\n",
    "df_region[\"REGION\"].unique()"
   ],
   "id": "5c5151b8e4becea4",
   "outputs": [
    {
     "data": {
      "text/plain": [
       "array(['EMEA', nan, 'APAC', 'LATAM', 'NA', 'X.x'], dtype=object)"
      ]
     },
     "execution_count": 173,
     "metadata": {},
     "output_type": "execute_result"
    }
   ],
   "execution_count": 173
  },
  {
   "metadata": {
    "ExecuteTime": {
     "end_time": "2025-08-29T14:21:16.761723Z",
     "start_time": "2025-08-29T14:21:16.755049Z"
    }
   },
   "cell_type": "code",
   "source": [
    "# Pour récupérer les continents manquants on va commencer par créer une liste des pays en X.x et Nan\n",
    "list_region_nan = df_region.loc[df_region[\"REGION\"] == \"X.x\"][\"COUNTRY_CODE\"].tolist()\n",
    "list_region_nan.extend(\n",
    "    df_region.loc[df_region[\"REGION\"].isna()][\"COUNTRY_CODE\"].tolist()\n",
    ")\n",
    "print(list_region_nan)"
   ],
   "id": "77dc641671419759",
   "outputs": [
    {
     "name": "stdout",
     "output_type": "stream",
     "text": [
      "['MH', 'PG', 'AG', 'AI', 'BQ', 'BS', 'CW', 'GD', 'GL', 'GP', 'IE', 'JM', 'KN', 'KY', 'LB', 'LC', 'MQ', 'PR', 'SX', 'TC', 'TT', 'US', 'VC', 'VG', 'VI']\n"
     ]
    }
   ],
   "execution_count": 174
  },
  {
   "metadata": {
    "ExecuteTime": {
     "end_time": "2025-08-29T14:21:16.827535Z",
     "start_time": "2025-08-29T14:21:16.819037Z"
    }
   },
   "cell_type": "code",
   "source": [
    "# On va maintenant donner cette liste à ChatGPT pour qu'il nous donne les codes des continents correspondant sous forme de liste\n",
    "list_region_tofill = [\n",
    "    \"APAC\",  # MH\n",
    "    \"APAC\",  # PG\n",
    "    \"NA\",  # AG\n",
    "    \"NA\",  # AI\n",
    "    \"NA\",  # BQ\n",
    "    \"NA\",  # BS\n",
    "    \"NA\",  # CW\n",
    "    \"NA\",  # GD\n",
    "    \"NA\",  # GL\n",
    "    \"NA\",  # GP\n",
    "    \"EMEA\",  # IE\n",
    "    \"NA\",  # JM\n",
    "    \"NA\",  # KN\n",
    "    \"NA\",  # KY\n",
    "    \"EMEA\",  # LB\n",
    "    \"NA\",  # LC\n",
    "    \"NA\",  # MQ\n",
    "    \"NA\",  # PR\n",
    "    \"NA\",  # SX\n",
    "    \"NA\",  # TC\n",
    "    \"NA\",  # TT\n",
    "    \"NA\",  # US\n",
    "    \"NA\",  # VC\n",
    "    \"NA\",  # VG\n",
    "    \"NA\",  # VI\n",
    "]\n",
    "\n",
    "# Après quelques contrôles aléatoires, on va remplir les données manquantes\n",
    "# On va d'abord mettre les X.x en Nan pour facilité le code après\n",
    "df_region[\"REGION\"] = df_region[\"REGION\"].replace(to_replace=\"X.x\", value=np.nan)\n",
    "# Créer un dictionnaire de mapping\n",
    "mapping_dict = dict(zip(list_region_nan, list_region_tofill))\n",
    "\n",
    "# Remplir les NaN avec les valeurs du dictionnaire\n",
    "df_region.loc[df_region[\"REGION\"].isna(), \"REGION\"] = df_region.loc[\n",
    "    df_region[\"REGION\"].isna(), \"COUNTRY_CODE\"\n",
    "].map(mapping_dict)"
   ],
   "id": "3550fdfab23bfad8",
   "outputs": [],
   "execution_count": 175
  },
  {
   "metadata": {
    "ExecuteTime": {
     "end_time": "2025-08-29T14:21:16.884581Z",
     "start_time": "2025-08-29T14:21:16.877846Z"
    }
   },
   "cell_type": "code",
   "source": [
    "df_region[\"REGION\"].isna().sum()"
   ],
   "id": "e860edaaf3be762b",
   "outputs": [
    {
     "data": {
      "text/plain": [
       "np.int64(0)"
      ]
     },
     "execution_count": 176,
     "metadata": {},
     "output_type": "execute_result"
    }
   ],
   "execution_count": 176
  },
  {
   "metadata": {
    "ExecuteTime": {
     "end_time": "2025-08-29T14:21:17.002957Z",
     "start_time": "2025-08-29T14:21:16.975058Z"
    }
   },
   "cell_type": "code",
   "source": [
    "# On merge maintenant avec le df principal\n",
    "\n",
    "df = df.merge(df_region, on=\"COUNTRY_CODE\", how=\"left\")\n",
    "df"
   ],
   "id": "cfe8ff2ae32d1003",
   "outputs": [
    {
     "data": {
      "text/plain": [
       "        USER_ID           ORDER_ID PURCHASE_TS     SHIP_TS  \\\n",
       "0      2c06175e   0001328c3c220830  24/12/2020  13/12/2020   \n",
       "1      ee8e5bc2  0002af7a5c6100772  01/10/2020  21/09/2020   \n",
       "2      9eb4efe0   0002b8350e167074  21/04/2020  16/02/2020   \n",
       "3      cac7cbaf   0006d06b98385729  07/04/2020  04/04/2020   \n",
       "4      6b0230bc   00097279a2f46150  24/11/2020  02/08/2020   \n",
       "...         ...                ...         ...         ...   \n",
       "21824  e432cf6f   fff0b6a1e9996384  27/11/2019  29/11/2019   \n",
       "21825  f4f11c04  fff4592dc6d103535  23/12/2019  26/12/2019   \n",
       "21826  f4f11c04  fff4592dc6d103537  23/12/2019  26/12/2019   \n",
       "21827  203ce4dd   fff829b061e16171  31/01/2021  02/02/2021   \n",
       "21828  203ce4dd   fff829b061e16172  31/01/2021  02/02/2021   \n",
       "\n",
       "                    PRODUCT_NAME PRODUCT_ID  USD_PRICE PURCHASE_PLATFORM  \\\n",
       "0                Nintendo Switch       e682     168.00           website   \n",
       "1                Nintendo Switch       e682     160.61           website   \n",
       "2                Nintendo Switch       8d0d     151.20           website   \n",
       "3      Sony PlayStation 5 Bundle       54ed    1132.82           website   \n",
       "4                Nintendo Switch       8d0d      33.89           website   \n",
       "...                          ...        ...        ...               ...   \n",
       "21824  Sony PlayStation 5 Bundle       54ed    1527.06           website   \n",
       "21825     27in 4K gaming monitor       891b     467.88           website   \n",
       "21826     27in 4K gaming monitor       891b     467.88           website   \n",
       "21827          Dell Gaming Mouse       8d4f      67.07        mobile app   \n",
       "21828          Dell Gaming Mouse       8d4f      67.07        mobile app   \n",
       "\n",
       "      MARKETING_CHANNEL ACCOUNT_CREATION_METHOD COUNTRY_CODE REGION  \n",
       "0             affiliate                     NaN           US     NA  \n",
       "1                direct                 desktop           DE   EMEA  \n",
       "2                direct                 desktop           US     NA  \n",
       "3                direct                 desktop           AU   APAC  \n",
       "4                direct                 desktop           TR   EMEA  \n",
       "...                 ...                     ...          ...    ...  \n",
       "21824            direct                 desktop           US     NA  \n",
       "21825            direct                 desktop           US     NA  \n",
       "21826            direct                 desktop           US     NA  \n",
       "21827            direct                 desktop           GB   EMEA  \n",
       "21828            direct                 desktop           GB   EMEA  \n",
       "\n",
       "[21829 rows x 12 columns]"
      ],
      "text/html": [
       "<div>\n",
       "<style scoped>\n",
       "    .dataframe tbody tr th:only-of-type {\n",
       "        vertical-align: middle;\n",
       "    }\n",
       "\n",
       "    .dataframe tbody tr th {\n",
       "        vertical-align: top;\n",
       "    }\n",
       "\n",
       "    .dataframe thead th {\n",
       "        text-align: right;\n",
       "    }\n",
       "</style>\n",
       "<table border=\"1\" class=\"dataframe\">\n",
       "  <thead>\n",
       "    <tr style=\"text-align: right;\">\n",
       "      <th></th>\n",
       "      <th>USER_ID</th>\n",
       "      <th>ORDER_ID</th>\n",
       "      <th>PURCHASE_TS</th>\n",
       "      <th>SHIP_TS</th>\n",
       "      <th>PRODUCT_NAME</th>\n",
       "      <th>PRODUCT_ID</th>\n",
       "      <th>USD_PRICE</th>\n",
       "      <th>PURCHASE_PLATFORM</th>\n",
       "      <th>MARKETING_CHANNEL</th>\n",
       "      <th>ACCOUNT_CREATION_METHOD</th>\n",
       "      <th>COUNTRY_CODE</th>\n",
       "      <th>REGION</th>\n",
       "    </tr>\n",
       "  </thead>\n",
       "  <tbody>\n",
       "    <tr>\n",
       "      <th>0</th>\n",
       "      <td>2c06175e</td>\n",
       "      <td>0001328c3c220830</td>\n",
       "      <td>24/12/2020</td>\n",
       "      <td>13/12/2020</td>\n",
       "      <td>Nintendo Switch</td>\n",
       "      <td>e682</td>\n",
       "      <td>168.00</td>\n",
       "      <td>website</td>\n",
       "      <td>affiliate</td>\n",
       "      <td>NaN</td>\n",
       "      <td>US</td>\n",
       "      <td>NA</td>\n",
       "    </tr>\n",
       "    <tr>\n",
       "      <th>1</th>\n",
       "      <td>ee8e5bc2</td>\n",
       "      <td>0002af7a5c6100772</td>\n",
       "      <td>01/10/2020</td>\n",
       "      <td>21/09/2020</td>\n",
       "      <td>Nintendo Switch</td>\n",
       "      <td>e682</td>\n",
       "      <td>160.61</td>\n",
       "      <td>website</td>\n",
       "      <td>direct</td>\n",
       "      <td>desktop</td>\n",
       "      <td>DE</td>\n",
       "      <td>EMEA</td>\n",
       "    </tr>\n",
       "    <tr>\n",
       "      <th>2</th>\n",
       "      <td>9eb4efe0</td>\n",
       "      <td>0002b8350e167074</td>\n",
       "      <td>21/04/2020</td>\n",
       "      <td>16/02/2020</td>\n",
       "      <td>Nintendo Switch</td>\n",
       "      <td>8d0d</td>\n",
       "      <td>151.20</td>\n",
       "      <td>website</td>\n",
       "      <td>direct</td>\n",
       "      <td>desktop</td>\n",
       "      <td>US</td>\n",
       "      <td>NA</td>\n",
       "    </tr>\n",
       "    <tr>\n",
       "      <th>3</th>\n",
       "      <td>cac7cbaf</td>\n",
       "      <td>0006d06b98385729</td>\n",
       "      <td>07/04/2020</td>\n",
       "      <td>04/04/2020</td>\n",
       "      <td>Sony PlayStation 5 Bundle</td>\n",
       "      <td>54ed</td>\n",
       "      <td>1132.82</td>\n",
       "      <td>website</td>\n",
       "      <td>direct</td>\n",
       "      <td>desktop</td>\n",
       "      <td>AU</td>\n",
       "      <td>APAC</td>\n",
       "    </tr>\n",
       "    <tr>\n",
       "      <th>4</th>\n",
       "      <td>6b0230bc</td>\n",
       "      <td>00097279a2f46150</td>\n",
       "      <td>24/11/2020</td>\n",
       "      <td>02/08/2020</td>\n",
       "      <td>Nintendo Switch</td>\n",
       "      <td>8d0d</td>\n",
       "      <td>33.89</td>\n",
       "      <td>website</td>\n",
       "      <td>direct</td>\n",
       "      <td>desktop</td>\n",
       "      <td>TR</td>\n",
       "      <td>EMEA</td>\n",
       "    </tr>\n",
       "    <tr>\n",
       "      <th>...</th>\n",
       "      <td>...</td>\n",
       "      <td>...</td>\n",
       "      <td>...</td>\n",
       "      <td>...</td>\n",
       "      <td>...</td>\n",
       "      <td>...</td>\n",
       "      <td>...</td>\n",
       "      <td>...</td>\n",
       "      <td>...</td>\n",
       "      <td>...</td>\n",
       "      <td>...</td>\n",
       "      <td>...</td>\n",
       "    </tr>\n",
       "    <tr>\n",
       "      <th>21824</th>\n",
       "      <td>e432cf6f</td>\n",
       "      <td>fff0b6a1e9996384</td>\n",
       "      <td>27/11/2019</td>\n",
       "      <td>29/11/2019</td>\n",
       "      <td>Sony PlayStation 5 Bundle</td>\n",
       "      <td>54ed</td>\n",
       "      <td>1527.06</td>\n",
       "      <td>website</td>\n",
       "      <td>direct</td>\n",
       "      <td>desktop</td>\n",
       "      <td>US</td>\n",
       "      <td>NA</td>\n",
       "    </tr>\n",
       "    <tr>\n",
       "      <th>21825</th>\n",
       "      <td>f4f11c04</td>\n",
       "      <td>fff4592dc6d103535</td>\n",
       "      <td>23/12/2019</td>\n",
       "      <td>26/12/2019</td>\n",
       "      <td>27in 4K gaming monitor</td>\n",
       "      <td>891b</td>\n",
       "      <td>467.88</td>\n",
       "      <td>website</td>\n",
       "      <td>direct</td>\n",
       "      <td>desktop</td>\n",
       "      <td>US</td>\n",
       "      <td>NA</td>\n",
       "    </tr>\n",
       "    <tr>\n",
       "      <th>21826</th>\n",
       "      <td>f4f11c04</td>\n",
       "      <td>fff4592dc6d103537</td>\n",
       "      <td>23/12/2019</td>\n",
       "      <td>26/12/2019</td>\n",
       "      <td>27in 4K gaming monitor</td>\n",
       "      <td>891b</td>\n",
       "      <td>467.88</td>\n",
       "      <td>website</td>\n",
       "      <td>direct</td>\n",
       "      <td>desktop</td>\n",
       "      <td>US</td>\n",
       "      <td>NA</td>\n",
       "    </tr>\n",
       "    <tr>\n",
       "      <th>21827</th>\n",
       "      <td>203ce4dd</td>\n",
       "      <td>fff829b061e16171</td>\n",
       "      <td>31/01/2021</td>\n",
       "      <td>02/02/2021</td>\n",
       "      <td>Dell Gaming Mouse</td>\n",
       "      <td>8d4f</td>\n",
       "      <td>67.07</td>\n",
       "      <td>mobile app</td>\n",
       "      <td>direct</td>\n",
       "      <td>desktop</td>\n",
       "      <td>GB</td>\n",
       "      <td>EMEA</td>\n",
       "    </tr>\n",
       "    <tr>\n",
       "      <th>21828</th>\n",
       "      <td>203ce4dd</td>\n",
       "      <td>fff829b061e16172</td>\n",
       "      <td>31/01/2021</td>\n",
       "      <td>02/02/2021</td>\n",
       "      <td>Dell Gaming Mouse</td>\n",
       "      <td>8d4f</td>\n",
       "      <td>67.07</td>\n",
       "      <td>mobile app</td>\n",
       "      <td>direct</td>\n",
       "      <td>desktop</td>\n",
       "      <td>GB</td>\n",
       "      <td>EMEA</td>\n",
       "    </tr>\n",
       "  </tbody>\n",
       "</table>\n",
       "<p>21829 rows × 12 columns</p>\n",
       "</div>"
      ]
     },
     "execution_count": 177,
     "metadata": {},
     "output_type": "execute_result"
    }
   ],
   "execution_count": 177
  },
  {
   "metadata": {
    "ExecuteTime": {
     "end_time": "2025-08-29T14:21:17.097618Z",
     "start_time": "2025-08-29T14:21:17.081104Z"
    }
   },
   "cell_type": "code",
   "source": [
    "df.loc[df[\"REGION\"].isna()]"
   ],
   "id": "9eccd8c61b88b9de",
   "outputs": [
    {
     "data": {
      "text/plain": [
       "        USER_ID           ORDER_ID PURCHASE_TS     SHIP_TS  \\\n",
       "6307   1b8c3d1e   52e572327b614216  19/05/2020  20/05/2020   \n",
       "7001   f4142de1  5c2e33b886d103170  22/06/2020  24/06/2020   \n",
       "14546  817f9256   ba4f8c5e94c55254  07/09/2019  08/09/2019   \n",
       "14547  817f9256   ba4f8c5e94c55255  07/09/2019  08/09/2019   \n",
       "16216  0373d738    caaa5399c024560  17/10/2020  20/10/2020   \n",
       "17946  47253a18   db6f0f788e531856  31/03/2020  02/04/2020   \n",
       "\n",
       "                         PRODUCT_NAME PRODUCT_ID  USD_PRICE PURCHASE_PLATFORM  \\\n",
       "6307                  Nintendo Switch       8d0d     152.51           website   \n",
       "7001                  Nintendo Switch       8d0d     168.00           website   \n",
       "14546  JBL Quantum 100 Gaming Headset       ab0f      24.00           website   \n",
       "14547  JBL Quantum 100 Gaming Headset       ab0f      24.00           website   \n",
       "16216          27in 4K gaming monitor       e7e6     480.00           website   \n",
       "17946  JBL Quantum 100 Gaming Headset       ab0f      21.46           website   \n",
       "\n",
       "      MARKETING_CHANNEL ACCOUNT_CREATION_METHOD COUNTRY_CODE REGION  \n",
       "6307             direct                 desktop           EU    NaN  \n",
       "7001             direct                 desktop           NA    NaN  \n",
       "14546             email                  mobile           AP    NaN  \n",
       "14547             email                  mobile           AP    NaN  \n",
       "16216            direct                 desktop           EU    NaN  \n",
       "17946             email                  mobile           EU    NaN  "
      ],
      "text/html": [
       "<div>\n",
       "<style scoped>\n",
       "    .dataframe tbody tr th:only-of-type {\n",
       "        vertical-align: middle;\n",
       "    }\n",
       "\n",
       "    .dataframe tbody tr th {\n",
       "        vertical-align: top;\n",
       "    }\n",
       "\n",
       "    .dataframe thead th {\n",
       "        text-align: right;\n",
       "    }\n",
       "</style>\n",
       "<table border=\"1\" class=\"dataframe\">\n",
       "  <thead>\n",
       "    <tr style=\"text-align: right;\">\n",
       "      <th></th>\n",
       "      <th>USER_ID</th>\n",
       "      <th>ORDER_ID</th>\n",
       "      <th>PURCHASE_TS</th>\n",
       "      <th>SHIP_TS</th>\n",
       "      <th>PRODUCT_NAME</th>\n",
       "      <th>PRODUCT_ID</th>\n",
       "      <th>USD_PRICE</th>\n",
       "      <th>PURCHASE_PLATFORM</th>\n",
       "      <th>MARKETING_CHANNEL</th>\n",
       "      <th>ACCOUNT_CREATION_METHOD</th>\n",
       "      <th>COUNTRY_CODE</th>\n",
       "      <th>REGION</th>\n",
       "    </tr>\n",
       "  </thead>\n",
       "  <tbody>\n",
       "    <tr>\n",
       "      <th>6307</th>\n",
       "      <td>1b8c3d1e</td>\n",
       "      <td>52e572327b614216</td>\n",
       "      <td>19/05/2020</td>\n",
       "      <td>20/05/2020</td>\n",
       "      <td>Nintendo Switch</td>\n",
       "      <td>8d0d</td>\n",
       "      <td>152.51</td>\n",
       "      <td>website</td>\n",
       "      <td>direct</td>\n",
       "      <td>desktop</td>\n",
       "      <td>EU</td>\n",
       "      <td>NaN</td>\n",
       "    </tr>\n",
       "    <tr>\n",
       "      <th>7001</th>\n",
       "      <td>f4142de1</td>\n",
       "      <td>5c2e33b886d103170</td>\n",
       "      <td>22/06/2020</td>\n",
       "      <td>24/06/2020</td>\n",
       "      <td>Nintendo Switch</td>\n",
       "      <td>8d0d</td>\n",
       "      <td>168.00</td>\n",
       "      <td>website</td>\n",
       "      <td>direct</td>\n",
       "      <td>desktop</td>\n",
       "      <td>NA</td>\n",
       "      <td>NaN</td>\n",
       "    </tr>\n",
       "    <tr>\n",
       "      <th>14546</th>\n",
       "      <td>817f9256</td>\n",
       "      <td>ba4f8c5e94c55254</td>\n",
       "      <td>07/09/2019</td>\n",
       "      <td>08/09/2019</td>\n",
       "      <td>JBL Quantum 100 Gaming Headset</td>\n",
       "      <td>ab0f</td>\n",
       "      <td>24.00</td>\n",
       "      <td>website</td>\n",
       "      <td>email</td>\n",
       "      <td>mobile</td>\n",
       "      <td>AP</td>\n",
       "      <td>NaN</td>\n",
       "    </tr>\n",
       "    <tr>\n",
       "      <th>14547</th>\n",
       "      <td>817f9256</td>\n",
       "      <td>ba4f8c5e94c55255</td>\n",
       "      <td>07/09/2019</td>\n",
       "      <td>08/09/2019</td>\n",
       "      <td>JBL Quantum 100 Gaming Headset</td>\n",
       "      <td>ab0f</td>\n",
       "      <td>24.00</td>\n",
       "      <td>website</td>\n",
       "      <td>email</td>\n",
       "      <td>mobile</td>\n",
       "      <td>AP</td>\n",
       "      <td>NaN</td>\n",
       "    </tr>\n",
       "    <tr>\n",
       "      <th>16216</th>\n",
       "      <td>0373d738</td>\n",
       "      <td>caaa5399c024560</td>\n",
       "      <td>17/10/2020</td>\n",
       "      <td>20/10/2020</td>\n",
       "      <td>27in 4K gaming monitor</td>\n",
       "      <td>e7e6</td>\n",
       "      <td>480.00</td>\n",
       "      <td>website</td>\n",
       "      <td>direct</td>\n",
       "      <td>desktop</td>\n",
       "      <td>EU</td>\n",
       "      <td>NaN</td>\n",
       "    </tr>\n",
       "    <tr>\n",
       "      <th>17946</th>\n",
       "      <td>47253a18</td>\n",
       "      <td>db6f0f788e531856</td>\n",
       "      <td>31/03/2020</td>\n",
       "      <td>02/04/2020</td>\n",
       "      <td>JBL Quantum 100 Gaming Headset</td>\n",
       "      <td>ab0f</td>\n",
       "      <td>21.46</td>\n",
       "      <td>website</td>\n",
       "      <td>email</td>\n",
       "      <td>mobile</td>\n",
       "      <td>EU</td>\n",
       "      <td>NaN</td>\n",
       "    </tr>\n",
       "  </tbody>\n",
       "</table>\n",
       "</div>"
      ]
     },
     "execution_count": 178,
     "metadata": {},
     "output_type": "execute_result"
    }
   ],
   "execution_count": 178
  },
  {
   "metadata": {
    "ExecuteTime": {
     "end_time": "2025-08-29T14:21:17.407263Z",
     "start_time": "2025-08-29T14:21:17.397964Z"
    }
   },
   "cell_type": "code",
   "source": [
    "# On va remplir directement les dernières valeurs manquantes\n",
    "region_mapping = {\"EU\": \"EMEA\", \"NA\": \"NA\", \"AP\": \"APAC\"}\n",
    "\n",
    "df.loc[df[\"REGION\"].isna(), \"REGION\"] = df.loc[df[\"REGION\"].isna(), \"COUNTRY_CODE\"].map(\n",
    "    region_mapping\n",
    ")"
   ],
   "id": "65274aa6e52c01e",
   "outputs": [],
   "execution_count": 179
  },
  {
   "metadata": {
    "ExecuteTime": {
     "end_time": "2025-08-29T14:21:17.519323Z",
     "start_time": "2025-08-29T14:21:17.508502Z"
    }
   },
   "cell_type": "code",
   "source": [
    "df.loc[df[\"REGION\"].isna()]"
   ],
   "id": "7b8c35f7b2554a6",
   "outputs": [
    {
     "data": {
      "text/plain": [
       "Empty DataFrame\n",
       "Columns: [USER_ID, ORDER_ID, PURCHASE_TS, SHIP_TS, PRODUCT_NAME, PRODUCT_ID, USD_PRICE, PURCHASE_PLATFORM, MARKETING_CHANNEL, ACCOUNT_CREATION_METHOD, COUNTRY_CODE, REGION]\n",
       "Index: []"
      ],
      "text/html": [
       "<div>\n",
       "<style scoped>\n",
       "    .dataframe tbody tr th:only-of-type {\n",
       "        vertical-align: middle;\n",
       "    }\n",
       "\n",
       "    .dataframe tbody tr th {\n",
       "        vertical-align: top;\n",
       "    }\n",
       "\n",
       "    .dataframe thead th {\n",
       "        text-align: right;\n",
       "    }\n",
       "</style>\n",
       "<table border=\"1\" class=\"dataframe\">\n",
       "  <thead>\n",
       "    <tr style=\"text-align: right;\">\n",
       "      <th></th>\n",
       "      <th>USER_ID</th>\n",
       "      <th>ORDER_ID</th>\n",
       "      <th>PURCHASE_TS</th>\n",
       "      <th>SHIP_TS</th>\n",
       "      <th>PRODUCT_NAME</th>\n",
       "      <th>PRODUCT_ID</th>\n",
       "      <th>USD_PRICE</th>\n",
       "      <th>PURCHASE_PLATFORM</th>\n",
       "      <th>MARKETING_CHANNEL</th>\n",
       "      <th>ACCOUNT_CREATION_METHOD</th>\n",
       "      <th>COUNTRY_CODE</th>\n",
       "      <th>REGION</th>\n",
       "    </tr>\n",
       "  </thead>\n",
       "  <tbody>\n",
       "  </tbody>\n",
       "</table>\n",
       "</div>"
      ]
     },
     "execution_count": 180,
     "metadata": {},
     "output_type": "execute_result"
    }
   ],
   "execution_count": 180
  },
  {
   "metadata": {
    "ExecuteTime": {
     "end_time": "2025-08-29T14:21:17.831451Z",
     "start_time": "2025-08-29T14:21:17.815253Z"
    }
   },
   "cell_type": "code",
   "source": [
    "# 99. On va maintenant mettre les bons type de données aux colonnes\n",
    "\n",
    "df"
   ],
   "id": "5c07c31f44d0f935",
   "outputs": [
    {
     "data": {
      "text/plain": [
       "        USER_ID           ORDER_ID PURCHASE_TS     SHIP_TS  \\\n",
       "0      2c06175e   0001328c3c220830  24/12/2020  13/12/2020   \n",
       "1      ee8e5bc2  0002af7a5c6100772  01/10/2020  21/09/2020   \n",
       "2      9eb4efe0   0002b8350e167074  21/04/2020  16/02/2020   \n",
       "3      cac7cbaf   0006d06b98385729  07/04/2020  04/04/2020   \n",
       "4      6b0230bc   00097279a2f46150  24/11/2020  02/08/2020   \n",
       "...         ...                ...         ...         ...   \n",
       "21824  e432cf6f   fff0b6a1e9996384  27/11/2019  29/11/2019   \n",
       "21825  f4f11c04  fff4592dc6d103535  23/12/2019  26/12/2019   \n",
       "21826  f4f11c04  fff4592dc6d103537  23/12/2019  26/12/2019   \n",
       "21827  203ce4dd   fff829b061e16171  31/01/2021  02/02/2021   \n",
       "21828  203ce4dd   fff829b061e16172  31/01/2021  02/02/2021   \n",
       "\n",
       "                    PRODUCT_NAME PRODUCT_ID  USD_PRICE PURCHASE_PLATFORM  \\\n",
       "0                Nintendo Switch       e682     168.00           website   \n",
       "1                Nintendo Switch       e682     160.61           website   \n",
       "2                Nintendo Switch       8d0d     151.20           website   \n",
       "3      Sony PlayStation 5 Bundle       54ed    1132.82           website   \n",
       "4                Nintendo Switch       8d0d      33.89           website   \n",
       "...                          ...        ...        ...               ...   \n",
       "21824  Sony PlayStation 5 Bundle       54ed    1527.06           website   \n",
       "21825     27in 4K gaming monitor       891b     467.88           website   \n",
       "21826     27in 4K gaming monitor       891b     467.88           website   \n",
       "21827          Dell Gaming Mouse       8d4f      67.07        mobile app   \n",
       "21828          Dell Gaming Mouse       8d4f      67.07        mobile app   \n",
       "\n",
       "      MARKETING_CHANNEL ACCOUNT_CREATION_METHOD COUNTRY_CODE REGION  \n",
       "0             affiliate                     NaN           US     NA  \n",
       "1                direct                 desktop           DE   EMEA  \n",
       "2                direct                 desktop           US     NA  \n",
       "3                direct                 desktop           AU   APAC  \n",
       "4                direct                 desktop           TR   EMEA  \n",
       "...                 ...                     ...          ...    ...  \n",
       "21824            direct                 desktop           US     NA  \n",
       "21825            direct                 desktop           US     NA  \n",
       "21826            direct                 desktop           US     NA  \n",
       "21827            direct                 desktop           GB   EMEA  \n",
       "21828            direct                 desktop           GB   EMEA  \n",
       "\n",
       "[21829 rows x 12 columns]"
      ],
      "text/html": [
       "<div>\n",
       "<style scoped>\n",
       "    .dataframe tbody tr th:only-of-type {\n",
       "        vertical-align: middle;\n",
       "    }\n",
       "\n",
       "    .dataframe tbody tr th {\n",
       "        vertical-align: top;\n",
       "    }\n",
       "\n",
       "    .dataframe thead th {\n",
       "        text-align: right;\n",
       "    }\n",
       "</style>\n",
       "<table border=\"1\" class=\"dataframe\">\n",
       "  <thead>\n",
       "    <tr style=\"text-align: right;\">\n",
       "      <th></th>\n",
       "      <th>USER_ID</th>\n",
       "      <th>ORDER_ID</th>\n",
       "      <th>PURCHASE_TS</th>\n",
       "      <th>SHIP_TS</th>\n",
       "      <th>PRODUCT_NAME</th>\n",
       "      <th>PRODUCT_ID</th>\n",
       "      <th>USD_PRICE</th>\n",
       "      <th>PURCHASE_PLATFORM</th>\n",
       "      <th>MARKETING_CHANNEL</th>\n",
       "      <th>ACCOUNT_CREATION_METHOD</th>\n",
       "      <th>COUNTRY_CODE</th>\n",
       "      <th>REGION</th>\n",
       "    </tr>\n",
       "  </thead>\n",
       "  <tbody>\n",
       "    <tr>\n",
       "      <th>0</th>\n",
       "      <td>2c06175e</td>\n",
       "      <td>0001328c3c220830</td>\n",
       "      <td>24/12/2020</td>\n",
       "      <td>13/12/2020</td>\n",
       "      <td>Nintendo Switch</td>\n",
       "      <td>e682</td>\n",
       "      <td>168.00</td>\n",
       "      <td>website</td>\n",
       "      <td>affiliate</td>\n",
       "      <td>NaN</td>\n",
       "      <td>US</td>\n",
       "      <td>NA</td>\n",
       "    </tr>\n",
       "    <tr>\n",
       "      <th>1</th>\n",
       "      <td>ee8e5bc2</td>\n",
       "      <td>0002af7a5c6100772</td>\n",
       "      <td>01/10/2020</td>\n",
       "      <td>21/09/2020</td>\n",
       "      <td>Nintendo Switch</td>\n",
       "      <td>e682</td>\n",
       "      <td>160.61</td>\n",
       "      <td>website</td>\n",
       "      <td>direct</td>\n",
       "      <td>desktop</td>\n",
       "      <td>DE</td>\n",
       "      <td>EMEA</td>\n",
       "    </tr>\n",
       "    <tr>\n",
       "      <th>2</th>\n",
       "      <td>9eb4efe0</td>\n",
       "      <td>0002b8350e167074</td>\n",
       "      <td>21/04/2020</td>\n",
       "      <td>16/02/2020</td>\n",
       "      <td>Nintendo Switch</td>\n",
       "      <td>8d0d</td>\n",
       "      <td>151.20</td>\n",
       "      <td>website</td>\n",
       "      <td>direct</td>\n",
       "      <td>desktop</td>\n",
       "      <td>US</td>\n",
       "      <td>NA</td>\n",
       "    </tr>\n",
       "    <tr>\n",
       "      <th>3</th>\n",
       "      <td>cac7cbaf</td>\n",
       "      <td>0006d06b98385729</td>\n",
       "      <td>07/04/2020</td>\n",
       "      <td>04/04/2020</td>\n",
       "      <td>Sony PlayStation 5 Bundle</td>\n",
       "      <td>54ed</td>\n",
       "      <td>1132.82</td>\n",
       "      <td>website</td>\n",
       "      <td>direct</td>\n",
       "      <td>desktop</td>\n",
       "      <td>AU</td>\n",
       "      <td>APAC</td>\n",
       "    </tr>\n",
       "    <tr>\n",
       "      <th>4</th>\n",
       "      <td>6b0230bc</td>\n",
       "      <td>00097279a2f46150</td>\n",
       "      <td>24/11/2020</td>\n",
       "      <td>02/08/2020</td>\n",
       "      <td>Nintendo Switch</td>\n",
       "      <td>8d0d</td>\n",
       "      <td>33.89</td>\n",
       "      <td>website</td>\n",
       "      <td>direct</td>\n",
       "      <td>desktop</td>\n",
       "      <td>TR</td>\n",
       "      <td>EMEA</td>\n",
       "    </tr>\n",
       "    <tr>\n",
       "      <th>...</th>\n",
       "      <td>...</td>\n",
       "      <td>...</td>\n",
       "      <td>...</td>\n",
       "      <td>...</td>\n",
       "      <td>...</td>\n",
       "      <td>...</td>\n",
       "      <td>...</td>\n",
       "      <td>...</td>\n",
       "      <td>...</td>\n",
       "      <td>...</td>\n",
       "      <td>...</td>\n",
       "      <td>...</td>\n",
       "    </tr>\n",
       "    <tr>\n",
       "      <th>21824</th>\n",
       "      <td>e432cf6f</td>\n",
       "      <td>fff0b6a1e9996384</td>\n",
       "      <td>27/11/2019</td>\n",
       "      <td>29/11/2019</td>\n",
       "      <td>Sony PlayStation 5 Bundle</td>\n",
       "      <td>54ed</td>\n",
       "      <td>1527.06</td>\n",
       "      <td>website</td>\n",
       "      <td>direct</td>\n",
       "      <td>desktop</td>\n",
       "      <td>US</td>\n",
       "      <td>NA</td>\n",
       "    </tr>\n",
       "    <tr>\n",
       "      <th>21825</th>\n",
       "      <td>f4f11c04</td>\n",
       "      <td>fff4592dc6d103535</td>\n",
       "      <td>23/12/2019</td>\n",
       "      <td>26/12/2019</td>\n",
       "      <td>27in 4K gaming monitor</td>\n",
       "      <td>891b</td>\n",
       "      <td>467.88</td>\n",
       "      <td>website</td>\n",
       "      <td>direct</td>\n",
       "      <td>desktop</td>\n",
       "      <td>US</td>\n",
       "      <td>NA</td>\n",
       "    </tr>\n",
       "    <tr>\n",
       "      <th>21826</th>\n",
       "      <td>f4f11c04</td>\n",
       "      <td>fff4592dc6d103537</td>\n",
       "      <td>23/12/2019</td>\n",
       "      <td>26/12/2019</td>\n",
       "      <td>27in 4K gaming monitor</td>\n",
       "      <td>891b</td>\n",
       "      <td>467.88</td>\n",
       "      <td>website</td>\n",
       "      <td>direct</td>\n",
       "      <td>desktop</td>\n",
       "      <td>US</td>\n",
       "      <td>NA</td>\n",
       "    </tr>\n",
       "    <tr>\n",
       "      <th>21827</th>\n",
       "      <td>203ce4dd</td>\n",
       "      <td>fff829b061e16171</td>\n",
       "      <td>31/01/2021</td>\n",
       "      <td>02/02/2021</td>\n",
       "      <td>Dell Gaming Mouse</td>\n",
       "      <td>8d4f</td>\n",
       "      <td>67.07</td>\n",
       "      <td>mobile app</td>\n",
       "      <td>direct</td>\n",
       "      <td>desktop</td>\n",
       "      <td>GB</td>\n",
       "      <td>EMEA</td>\n",
       "    </tr>\n",
       "    <tr>\n",
       "      <th>21828</th>\n",
       "      <td>203ce4dd</td>\n",
       "      <td>fff829b061e16172</td>\n",
       "      <td>31/01/2021</td>\n",
       "      <td>02/02/2021</td>\n",
       "      <td>Dell Gaming Mouse</td>\n",
       "      <td>8d4f</td>\n",
       "      <td>67.07</td>\n",
       "      <td>mobile app</td>\n",
       "      <td>direct</td>\n",
       "      <td>desktop</td>\n",
       "      <td>GB</td>\n",
       "      <td>EMEA</td>\n",
       "    </tr>\n",
       "  </tbody>\n",
       "</table>\n",
       "<p>21829 rows × 12 columns</p>\n",
       "</div>"
      ]
     },
     "execution_count": 181,
     "metadata": {},
     "output_type": "execute_result"
    }
   ],
   "execution_count": 181
  },
  {
   "metadata": {
    "ExecuteTime": {
     "end_time": "2025-08-29T14:21:18.212660Z",
     "start_time": "2025-08-29T14:21:18.134586Z"
    }
   },
   "cell_type": "code",
   "source": [
    "df[\"PURCHASE_TS\"] = pd.to_datetime(df[\"PURCHASE_TS\"])\n",
    "df[\"SHIP_TS\"] = pd.to_datetime(df[\"SHIP_TS\"])\n",
    "\n",
    "df.info()"
   ],
   "id": "396786aea4ff7679",
   "outputs": [
    {
     "name": "stdout",
     "output_type": "stream",
     "text": [
      "<class 'pandas.core.frame.DataFrame'>\n",
      "RangeIndex: 21829 entries, 0 to 21828\n",
      "Data columns (total 12 columns):\n",
      " #   Column                   Non-Null Count  Dtype         \n",
      "---  ------                   --------------  -----         \n",
      " 0   USER_ID                  21829 non-null  object        \n",
      " 1   ORDER_ID                 21829 non-null  object        \n",
      " 2   PURCHASE_TS              21825 non-null  datetime64[ns]\n",
      " 3   SHIP_TS                  21829 non-null  datetime64[ns]\n",
      " 4   PRODUCT_NAME             21829 non-null  object        \n",
      " 5   PRODUCT_ID               21829 non-null  object        \n",
      " 6   USD_PRICE                21795 non-null  float64       \n",
      " 7   PURCHASE_PLATFORM        21829 non-null  object        \n",
      " 8   MARKETING_CHANNEL        21699 non-null  object        \n",
      " 9   ACCOUNT_CREATION_METHOD  21007 non-null  object        \n",
      " 10  COUNTRY_CODE             21792 non-null  object        \n",
      " 11  REGION                   21829 non-null  object        \n",
      "dtypes: datetime64[ns](2), float64(1), object(9)\n",
      "memory usage: 2.0+ MB\n"
     ]
    },
    {
     "name": "stderr",
     "output_type": "stream",
     "text": [
      "/tmp/ipykernel_15194/4105778645.py:1: UserWarning: Parsing dates in %d/%m/%Y format when dayfirst=False (the default) was specified. Pass `dayfirst=True` or specify a format to silence this warning.\n",
      "  df[\"PURCHASE_TS\"] = pd.to_datetime(df[\"PURCHASE_TS\"])\n",
      "/tmp/ipykernel_15194/4105778645.py:2: UserWarning: Parsing dates in %d/%m/%Y format when dayfirst=False (the default) was specified. Pass `dayfirst=True` or specify a format to silence this warning.\n",
      "  df[\"SHIP_TS\"] = pd.to_datetime(df[\"SHIP_TS\"])\n"
     ]
    }
   ],
   "execution_count": 182
  },
  {
   "metadata": {
    "ExecuteTime": {
     "end_time": "2025-08-29T14:21:18.346174Z",
     "start_time": "2025-08-29T14:21:18.328717Z"
    }
   },
   "cell_type": "code",
   "source": "df",
   "id": "90f54fb782644241",
   "outputs": [
    {
     "data": {
      "text/plain": [
       "        USER_ID           ORDER_ID PURCHASE_TS    SHIP_TS  \\\n",
       "0      2c06175e   0001328c3c220830  2020-12-24 2020-12-13   \n",
       "1      ee8e5bc2  0002af7a5c6100772  2020-10-01 2020-09-21   \n",
       "2      9eb4efe0   0002b8350e167074  2020-04-21 2020-02-16   \n",
       "3      cac7cbaf   0006d06b98385729  2020-04-07 2020-04-04   \n",
       "4      6b0230bc   00097279a2f46150  2020-11-24 2020-08-02   \n",
       "...         ...                ...         ...        ...   \n",
       "21824  e432cf6f   fff0b6a1e9996384  2019-11-27 2019-11-29   \n",
       "21825  f4f11c04  fff4592dc6d103535  2019-12-23 2019-12-26   \n",
       "21826  f4f11c04  fff4592dc6d103537  2019-12-23 2019-12-26   \n",
       "21827  203ce4dd   fff829b061e16171  2021-01-31 2021-02-02   \n",
       "21828  203ce4dd   fff829b061e16172  2021-01-31 2021-02-02   \n",
       "\n",
       "                    PRODUCT_NAME PRODUCT_ID  USD_PRICE PURCHASE_PLATFORM  \\\n",
       "0                Nintendo Switch       e682     168.00           website   \n",
       "1                Nintendo Switch       e682     160.61           website   \n",
       "2                Nintendo Switch       8d0d     151.20           website   \n",
       "3      Sony PlayStation 5 Bundle       54ed    1132.82           website   \n",
       "4                Nintendo Switch       8d0d      33.89           website   \n",
       "...                          ...        ...        ...               ...   \n",
       "21824  Sony PlayStation 5 Bundle       54ed    1527.06           website   \n",
       "21825     27in 4K gaming monitor       891b     467.88           website   \n",
       "21826     27in 4K gaming monitor       891b     467.88           website   \n",
       "21827          Dell Gaming Mouse       8d4f      67.07        mobile app   \n",
       "21828          Dell Gaming Mouse       8d4f      67.07        mobile app   \n",
       "\n",
       "      MARKETING_CHANNEL ACCOUNT_CREATION_METHOD COUNTRY_CODE REGION  \n",
       "0             affiliate                     NaN           US     NA  \n",
       "1                direct                 desktop           DE   EMEA  \n",
       "2                direct                 desktop           US     NA  \n",
       "3                direct                 desktop           AU   APAC  \n",
       "4                direct                 desktop           TR   EMEA  \n",
       "...                 ...                     ...          ...    ...  \n",
       "21824            direct                 desktop           US     NA  \n",
       "21825            direct                 desktop           US     NA  \n",
       "21826            direct                 desktop           US     NA  \n",
       "21827            direct                 desktop           GB   EMEA  \n",
       "21828            direct                 desktop           GB   EMEA  \n",
       "\n",
       "[21829 rows x 12 columns]"
      ],
      "text/html": [
       "<div>\n",
       "<style scoped>\n",
       "    .dataframe tbody tr th:only-of-type {\n",
       "        vertical-align: middle;\n",
       "    }\n",
       "\n",
       "    .dataframe tbody tr th {\n",
       "        vertical-align: top;\n",
       "    }\n",
       "\n",
       "    .dataframe thead th {\n",
       "        text-align: right;\n",
       "    }\n",
       "</style>\n",
       "<table border=\"1\" class=\"dataframe\">\n",
       "  <thead>\n",
       "    <tr style=\"text-align: right;\">\n",
       "      <th></th>\n",
       "      <th>USER_ID</th>\n",
       "      <th>ORDER_ID</th>\n",
       "      <th>PURCHASE_TS</th>\n",
       "      <th>SHIP_TS</th>\n",
       "      <th>PRODUCT_NAME</th>\n",
       "      <th>PRODUCT_ID</th>\n",
       "      <th>USD_PRICE</th>\n",
       "      <th>PURCHASE_PLATFORM</th>\n",
       "      <th>MARKETING_CHANNEL</th>\n",
       "      <th>ACCOUNT_CREATION_METHOD</th>\n",
       "      <th>COUNTRY_CODE</th>\n",
       "      <th>REGION</th>\n",
       "    </tr>\n",
       "  </thead>\n",
       "  <tbody>\n",
       "    <tr>\n",
       "      <th>0</th>\n",
       "      <td>2c06175e</td>\n",
       "      <td>0001328c3c220830</td>\n",
       "      <td>2020-12-24</td>\n",
       "      <td>2020-12-13</td>\n",
       "      <td>Nintendo Switch</td>\n",
       "      <td>e682</td>\n",
       "      <td>168.00</td>\n",
       "      <td>website</td>\n",
       "      <td>affiliate</td>\n",
       "      <td>NaN</td>\n",
       "      <td>US</td>\n",
       "      <td>NA</td>\n",
       "    </tr>\n",
       "    <tr>\n",
       "      <th>1</th>\n",
       "      <td>ee8e5bc2</td>\n",
       "      <td>0002af7a5c6100772</td>\n",
       "      <td>2020-10-01</td>\n",
       "      <td>2020-09-21</td>\n",
       "      <td>Nintendo Switch</td>\n",
       "      <td>e682</td>\n",
       "      <td>160.61</td>\n",
       "      <td>website</td>\n",
       "      <td>direct</td>\n",
       "      <td>desktop</td>\n",
       "      <td>DE</td>\n",
       "      <td>EMEA</td>\n",
       "    </tr>\n",
       "    <tr>\n",
       "      <th>2</th>\n",
       "      <td>9eb4efe0</td>\n",
       "      <td>0002b8350e167074</td>\n",
       "      <td>2020-04-21</td>\n",
       "      <td>2020-02-16</td>\n",
       "      <td>Nintendo Switch</td>\n",
       "      <td>8d0d</td>\n",
       "      <td>151.20</td>\n",
       "      <td>website</td>\n",
       "      <td>direct</td>\n",
       "      <td>desktop</td>\n",
       "      <td>US</td>\n",
       "      <td>NA</td>\n",
       "    </tr>\n",
       "    <tr>\n",
       "      <th>3</th>\n",
       "      <td>cac7cbaf</td>\n",
       "      <td>0006d06b98385729</td>\n",
       "      <td>2020-04-07</td>\n",
       "      <td>2020-04-04</td>\n",
       "      <td>Sony PlayStation 5 Bundle</td>\n",
       "      <td>54ed</td>\n",
       "      <td>1132.82</td>\n",
       "      <td>website</td>\n",
       "      <td>direct</td>\n",
       "      <td>desktop</td>\n",
       "      <td>AU</td>\n",
       "      <td>APAC</td>\n",
       "    </tr>\n",
       "    <tr>\n",
       "      <th>4</th>\n",
       "      <td>6b0230bc</td>\n",
       "      <td>00097279a2f46150</td>\n",
       "      <td>2020-11-24</td>\n",
       "      <td>2020-08-02</td>\n",
       "      <td>Nintendo Switch</td>\n",
       "      <td>8d0d</td>\n",
       "      <td>33.89</td>\n",
       "      <td>website</td>\n",
       "      <td>direct</td>\n",
       "      <td>desktop</td>\n",
       "      <td>TR</td>\n",
       "      <td>EMEA</td>\n",
       "    </tr>\n",
       "    <tr>\n",
       "      <th>...</th>\n",
       "      <td>...</td>\n",
       "      <td>...</td>\n",
       "      <td>...</td>\n",
       "      <td>...</td>\n",
       "      <td>...</td>\n",
       "      <td>...</td>\n",
       "      <td>...</td>\n",
       "      <td>...</td>\n",
       "      <td>...</td>\n",
       "      <td>...</td>\n",
       "      <td>...</td>\n",
       "      <td>...</td>\n",
       "    </tr>\n",
       "    <tr>\n",
       "      <th>21824</th>\n",
       "      <td>e432cf6f</td>\n",
       "      <td>fff0b6a1e9996384</td>\n",
       "      <td>2019-11-27</td>\n",
       "      <td>2019-11-29</td>\n",
       "      <td>Sony PlayStation 5 Bundle</td>\n",
       "      <td>54ed</td>\n",
       "      <td>1527.06</td>\n",
       "      <td>website</td>\n",
       "      <td>direct</td>\n",
       "      <td>desktop</td>\n",
       "      <td>US</td>\n",
       "      <td>NA</td>\n",
       "    </tr>\n",
       "    <tr>\n",
       "      <th>21825</th>\n",
       "      <td>f4f11c04</td>\n",
       "      <td>fff4592dc6d103535</td>\n",
       "      <td>2019-12-23</td>\n",
       "      <td>2019-12-26</td>\n",
       "      <td>27in 4K gaming monitor</td>\n",
       "      <td>891b</td>\n",
       "      <td>467.88</td>\n",
       "      <td>website</td>\n",
       "      <td>direct</td>\n",
       "      <td>desktop</td>\n",
       "      <td>US</td>\n",
       "      <td>NA</td>\n",
       "    </tr>\n",
       "    <tr>\n",
       "      <th>21826</th>\n",
       "      <td>f4f11c04</td>\n",
       "      <td>fff4592dc6d103537</td>\n",
       "      <td>2019-12-23</td>\n",
       "      <td>2019-12-26</td>\n",
       "      <td>27in 4K gaming monitor</td>\n",
       "      <td>891b</td>\n",
       "      <td>467.88</td>\n",
       "      <td>website</td>\n",
       "      <td>direct</td>\n",
       "      <td>desktop</td>\n",
       "      <td>US</td>\n",
       "      <td>NA</td>\n",
       "    </tr>\n",
       "    <tr>\n",
       "      <th>21827</th>\n",
       "      <td>203ce4dd</td>\n",
       "      <td>fff829b061e16171</td>\n",
       "      <td>2021-01-31</td>\n",
       "      <td>2021-02-02</td>\n",
       "      <td>Dell Gaming Mouse</td>\n",
       "      <td>8d4f</td>\n",
       "      <td>67.07</td>\n",
       "      <td>mobile app</td>\n",
       "      <td>direct</td>\n",
       "      <td>desktop</td>\n",
       "      <td>GB</td>\n",
       "      <td>EMEA</td>\n",
       "    </tr>\n",
       "    <tr>\n",
       "      <th>21828</th>\n",
       "      <td>203ce4dd</td>\n",
       "      <td>fff829b061e16172</td>\n",
       "      <td>2021-01-31</td>\n",
       "      <td>2021-02-02</td>\n",
       "      <td>Dell Gaming Mouse</td>\n",
       "      <td>8d4f</td>\n",
       "      <td>67.07</td>\n",
       "      <td>mobile app</td>\n",
       "      <td>direct</td>\n",
       "      <td>desktop</td>\n",
       "      <td>GB</td>\n",
       "      <td>EMEA</td>\n",
       "    </tr>\n",
       "  </tbody>\n",
       "</table>\n",
       "<p>21829 rows × 12 columns</p>\n",
       "</div>"
      ]
     },
     "execution_count": 183,
     "metadata": {},
     "output_type": "execute_result"
    }
   ],
   "execution_count": 183
  },
  {
   "metadata": {
    "ExecuteTime": {
     "end_time": "2025-08-29T14:21:18.840668Z",
     "start_time": "2025-08-29T14:21:18.836784Z"
    }
   },
   "cell_type": "code",
   "source": [
    "# ----------------------------------------------------------\n",
    "#\n",
    "# 5. EDA\n",
    "#\n",
    "# ----------------------------------------------------------"
   ],
   "id": "b43a4dc6889280bb",
   "outputs": [],
   "execution_count": 184
  }
 ],
 "metadata": {
  "kernelspec": {
   "display_name": "Python 3",
   "language": "python",
   "name": "python3"
  },
  "language_info": {
   "codemirror_mode": {
    "name": "ipython",
    "version": 2
   },
   "file_extension": ".py",
   "mimetype": "text/x-python",
   "name": "python",
   "nbconvert_exporter": "python",
   "pygments_lexer": "ipython2",
   "version": "2.7.6"
  }
 },
 "nbformat": 4,
 "nbformat_minor": 5
}
