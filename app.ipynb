{
 "cells": [
  {
   "cell_type": "code",
   "id": "initial_id",
   "metadata": {
    "collapsed": true,
    "ExecuteTime": {
     "end_time": "2025-08-28T16:03:15.531384Z",
     "start_time": "2025-08-28T16:03:15.526964Z"
    }
   },
   "source": [
    "### Suite à un problème avec le logiciel PyCharm, les Markdown seront gérés en Code commentés\n",
    "# https://youtrack.jetbrains.com/issue/PY-26560/Jupyter-notebook-markdown-disappears"
   ],
   "outputs": [],
   "execution_count": 1
  },
  {
   "metadata": {
    "ExecuteTime": {
     "end_time": "2025-08-28T16:03:15.635432Z",
     "start_time": "2025-08-28T16:03:15.625653Z"
    }
   },
   "cell_type": "code",
   "source": [
    "# Sommaire\n",
    "# 1. Importation des librairies et du fichiers\n",
    "# 2. Découverte du dataframe\n",
    "# 3. Data Cleaning\n",
    "# 4. EDA"
   ],
   "id": "7943e1221cefa954",
   "outputs": [],
   "execution_count": 2
  },
  {
   "metadata": {
    "ExecuteTime": {
     "end_time": "2025-08-28T16:03:15.701906Z",
     "start_time": "2025-08-28T16:03:15.694719Z"
    }
   },
   "cell_type": "code",
   "source": [
    " # ----------------------------------------------------\n",
    "#\n",
    "# 1. Importation des librairies et du fichiers\n",
    "#\n",
    "# ----------------------------------------------------"
   ],
   "id": "921d3fc7570900f8",
   "outputs": [],
   "execution_count": 3
  },
  {
   "metadata": {
    "jupyter": {
     "is_executing": true
    }
   },
   "cell_type": "code",
   "source": [
    "# Importation des packages\n",
    "\n",
    "import pandas as pd\n",
    "import numpy as np\n",
    "import matplotlib.pyplot as plt\n",
    "import seaborn as sns\n",
    "import duckdb"
   ],
   "id": "abc122fbb105e377",
   "outputs": [],
   "execution_count": null
  },
  {
   "metadata": {
    "ExecuteTime": {
     "end_time": "2025-08-28T16:03:15.856966Z",
     "start_time": "2025-08-28T16:03:15.843045Z"
    }
   },
   "cell_type": "code",
   "source": [
    "# Importation du fichier\n",
    "\n",
    "df = pd.read_csv('https://raw.githubusercontent.com/YoannB-data/gamezone_shop/master/data/gamezone-orders-data.csv')\n",
    "\n",
    "df"
   ],
   "id": "a3484adc4f54e2ec",
   "outputs": [
    {
     "ename": "SyntaxError",
     "evalue": "unterminated string literal (detected at line 7) (3543041542.py, line 7)",
     "output_type": "error",
     "traceback": [
      "  \u001B[36mCell\u001B[39m\u001B[36m \u001B[39m\u001B[32mIn[5]\u001B[39m\u001B[32m, line 7\u001B[39m\n\u001B[31m    \u001B[39m\u001B[31mdf = pd.read_csv('./Data/gamezone-region.csv\")\u001B[39m\n                     ^\n\u001B[31mSyntaxError\u001B[39m\u001B[31m:\u001B[39m unterminated string literal (detected at line 7)\n"
     ]
    }
   ],
   "execution_count": 5
  }
 ],
 "metadata": {
  "kernelspec": {
   "display_name": "Python 3",
   "language": "python",
   "name": "python3"
  },
  "language_info": {
   "codemirror_mode": {
    "name": "ipython",
    "version": 2
   },
   "file_extension": ".py",
   "mimetype": "text/x-python",
   "name": "python",
   "nbconvert_exporter": "python",
   "pygments_lexer": "ipython2",
   "version": "2.7.6"
  }
 },
 "nbformat": 4,
 "nbformat_minor": 5
}
